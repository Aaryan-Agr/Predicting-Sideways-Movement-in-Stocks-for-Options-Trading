{
  "nbformat": 4,
  "nbformat_minor": 0,
  "metadata": {
    "colab": {
      "provenance": [],
      "authorship_tag": "ABX9TyPfuwwgpuCYheDXUNyKOZLB"
    },
    "kernelspec": {
      "name": "python3",
      "display_name": "Python 3"
    },
    "language_info": {
      "name": "python"
    }
  },
  "cells": [
    {
      "cell_type": "markdown",
      "source": [
        "# Sideways Predictor for Options within Capital Markets"
      ],
      "metadata": {
        "id": "eb1_mHf1C4oR"
      }
    },
    {
      "cell_type": "markdown",
      "source": [
        "## Loading Libraries and Preprocessing Data"
      ],
      "metadata": {
        "id": "5gzPze99Msy9"
      }
    },
    {
      "cell_type": "markdown",
      "source": [
        "#### Loading Libraries and Fetching Data"
      ],
      "metadata": {
        "id": "x5G4VLZBOnjy"
      }
    },
    {
      "cell_type": "code",
      "source": [
        "# All required libraries\n",
        "#!pip install ta\n",
        "import html\n",
        "import pandas as pd\n",
        "import yfinance as yf\n",
        "import ta\n",
        "import datetime\n",
        "from datetime import date, timedelta\n",
        "today = date.today()\n",
        "\n",
        "from sklearn.model_selection import train_test_split\n",
        "from sklearn.preprocessing import StandardScaler\n",
        "from sklearn.ensemble import RandomForestClassifier\n",
        "from sklearn.svm import SVC\n",
        "from sklearn.linear_model import LogisticRegression\n",
        "from sklearn.metrics import accuracy_score, classification_report\n",
        "\n",
        "import matplotlib.pyplot as plt\n",
        "import seaborn as sns\n",
        "from sklearn.metrics import confusion_matrix, precision_recall_fscore_support\n",
        "\n",
        "from sklearn.metrics import roc_curve, auc\n",
        "import joblib"
      ],
      "metadata": {
        "id": "b0DQ7m3HC4WO"
      },
      "execution_count": 125,
      "outputs": []
    },
    {
      "cell_type": "code",
      "source": [
        "# Fetching SP500 companies\n",
        "url = \"https://en.wikipedia.org/wiki/List_of_S%26P_500_companies\"\n",
        "df = pd.read_html(url)[0]\n",
        "tickers = df[\"Symbol\"].astype(str).str.strip()\n",
        "\n",
        "df = df.astype({\"Symbol\": \"string\",\n",
        "                \"Security\": \"string\",\n",
        "                \"GICS Sector\": \"string\",\n",
        "                \"GICS Sub-Industry\": \"string\",\n",
        "                \"Headquarters Location\": \"string\"})\n",
        "\n",
        "df[\"Date added\"] = pd.to_datetime(df[\"Date added\"], errors=\"coerce\")\n",
        "df[\"CIK\"] = pd.to_numeric(df[\"CIK\"], errors=\"coerce\")\n",
        "df[\"Founded\"] = pd.to_numeric(df[\"Founded\"], errors=\"coerce\")\n"
      ],
      "metadata": {
        "id": "ojTaE0YYC7iz"
      },
      "execution_count": 126,
      "outputs": []
    },
    {
      "cell_type": "code",
      "source": [
        "# Helper Function for Fetching Stock Ticker\n",
        "def get_stock_data(ticker):\n",
        "    print(\"start\")\n",
        "    try:\n",
        "        print(f\"Fetching data for {ticker}...\")\n",
        "        stock = yf.download(ticker, period=\"6mo\", interval=\"1d\")\n",
        "        if stock.empty:\n",
        "            print(f\"Skipping {ticker}: No data found\")\n",
        "            return None\n",
        "\n",
        "        close_series = stock[\"Close\"].squeeze()\n",
        "\n",
        "        #FetchingTechnical Analysis\n",
        "\n",
        "        # Calculate the 60-period Moving Average\n",
        "        stock[\"MA_60\"] = close_series.rolling(window=60).mean()\n",
        "\n",
        "        # Bollinger Bands (20,2)\n",
        "        stock[\"BB_High\"] = ta.volatility.bollinger_hband(close_series)\n",
        "        stock[\"BB_Mid\"] = ta.volatility.bollinger_mavg(close_series)\n",
        "        stock[\"BB_Low\"] = ta.volatility.bollinger_lband(close_series)\n",
        "\n",
        "        # RSI (14)\n",
        "        stock[\"RSI_14\"] = ta.momentum.RSIIndicator(close_series, window=14).rsi()\n",
        "\n",
        "        # MACD (12,26,9)\n",
        "        macd = ta.trend.MACD(close_series, window_slow=26, window_fast=12, window_sign=9)\n",
        "        stock[\"MACD_Line\"] = macd.macd()\n",
        "        stock[\"MACD_Signal\"] = macd.macd_signal()\n",
        "        stock[\"MACD_Hist\"] = macd.macd_diff()\n",
        "\n",
        "        # Fetch the latest stock price (close price)\n",
        "        price = stock[\"Close\"].iloc[-1]\n",
        "\n",
        "\n",
        "        latest = stock.iloc[-1][[\"MA_60\", \"BB_High\", \"BB_Mid\", \"BB_Low\", \"RSI_14\", \"MACD_Line\", \"MACD_Signal\", \"MACD_Hist\"]].squeeze()\n",
        "        latest[\"Ticker\"] = ticker\n",
        "        latest[\"Price\"] = price\n",
        "        return latest\n",
        "\n",
        "    except Exception as e:\n",
        "        print(f\"Error fetching data for {ticker}: {e}\")\n",
        "        return None\n"
      ],
      "metadata": {
        "id": "BkarLXzhK6bQ"
      },
      "execution_count": 127,
      "outputs": []
    },
    {
      "cell_type": "code",
      "source": [
        "# Helper Function for Fetching the Latest Price\n",
        "def fetch_latest_price(symbol):\n",
        "    yahoo_ticker = symbol.replace('.', '-')\n",
        "\n",
        "    try:\n",
        "        stock = yf.Ticker(yahoo_ticker)\n",
        "        price = stock.history(period=\"1d\")['Close'].iloc[-1]\n",
        "        return price\n",
        "    except Exception as e:\n",
        "        print(f\"Error fetching price for {symbol} ({yahoo_ticker}): {e}\")\n",
        "        return None"
      ],
      "metadata": {
        "id": "jGAAH2CDF6yy"
      },
      "execution_count": 128,
      "outputs": []
    },
    {
      "cell_type": "code",
      "source": [
        "# Table structure\n",
        "df.info()"
      ],
      "metadata": {
        "colab": {
          "base_uri": "https://localhost:8080/"
        },
        "id": "zOOwVB2XLho2",
        "outputId": "f5712852-4444-4cd5-c705-798babb24346"
      },
      "execution_count": 129,
      "outputs": [
        {
          "output_type": "stream",
          "name": "stdout",
          "text": [
            "<class 'pandas.core.frame.DataFrame'>\n",
            "RangeIndex: 503 entries, 0 to 502\n",
            "Data columns (total 8 columns):\n",
            " #   Column                 Non-Null Count  Dtype         \n",
            "---  ------                 --------------  -----         \n",
            " 0   Symbol                 503 non-null    string        \n",
            " 1   Security               503 non-null    string        \n",
            " 2   GICS Sector            503 non-null    string        \n",
            " 3   GICS Sub-Industry      503 non-null    string        \n",
            " 4   Headquarters Location  503 non-null    string        \n",
            " 5   Date added             503 non-null    datetime64[ns]\n",
            " 6   CIK                    503 non-null    int64         \n",
            " 7   Founded                461 non-null    float64       \n",
            "dtypes: datetime64[ns](1), float64(1), int64(1), string(5)\n",
            "memory usage: 31.6 KB\n"
          ]
        }
      ]
    },
    {
      "cell_type": "markdown",
      "source": [
        "### Data Preprocessing"
      ],
      "metadata": {
        "id": "HuaSUFomO0Cv"
      }
    },
    {
      "cell_type": "code",
      "source": [
        "#Pooling in Technical FInancial Data into the main DataFrame\n",
        "data_list = []\n",
        "for ticker in tickers:\n",
        "\n",
        "    stock_data = get_stock_data(ticker)\n",
        "    if stock_data is not None:\n",
        "        stock_data[\"Ticker\"] = ticker\n",
        "        data_list.append(stock_data)\n",
        "# Create DataFrame\n",
        "if data_list:\n",
        "    df_stocks = pd.DataFrame(data_list).set_index(\"Ticker\")\n",
        "else:\n",
        "    print(\"No valid stock data retrieved.\")\n",
        "# Clean the column headers\n",
        "df_stocks.columns = [html.unescape(col) for col in df_stocks.columns]\n",
        "df_stocks.columns = [col[0] for col in df_stocks.columns]\n",
        "# Merging Technical Data with FUndamental Data into one DataFrame\n",
        "dfdata = pd.merge(df, df_stocks, left_on='Symbol', right_on='Ticker', how='outer')\n",
        "dfdata['Price'] = dfdata['Symbol'].apply(fetch_latest_price)"
      ],
      "metadata": {
        "colab": {
          "base_uri": "https://localhost:8080/"
        },
        "collapsed": true,
        "id": "f9Dj9ndXLCSd",
        "outputId": "f0156e54-505b-42d1-a62f-93419364edd1"
      },
      "execution_count": 130,
      "outputs": [
        {
          "output_type": "stream",
          "name": "stderr",
          "text": [
            "\r[*********************100%***********************]  1 of 1 completed"
          ]
        },
        {
          "output_type": "stream",
          "name": "stdout",
          "text": [
            "start\n",
            "Fetching data for MMM...\n",
            "start\n",
            "Fetching data for AOS...\n"
          ]
        },
        {
          "output_type": "stream",
          "name": "stderr",
          "text": [
            "\n",
            "\r[*********************100%***********************]  1 of 1 completed\n"
          ]
        },
        {
          "output_type": "stream",
          "name": "stdout",
          "text": [
            "start\n",
            "Fetching data for ABT...\n"
          ]
        },
        {
          "output_type": "stream",
          "name": "stderr",
          "text": [
            "\r[*********************100%***********************]  1 of 1 completed\n"
          ]
        },
        {
          "output_type": "stream",
          "name": "stdout",
          "text": [
            "start\n",
            "Fetching data for ABBV...\n"
          ]
        },
        {
          "output_type": "stream",
          "name": "stderr",
          "text": [
            "[*********************100%***********************]  1 of 1 completed\n",
            "[*********************100%***********************]  1 of 1 completed"
          ]
        },
        {
          "output_type": "stream",
          "name": "stdout",
          "text": [
            "start\n",
            "Fetching data for ACN...\n",
            "start\n",
            "Fetching data for ADBE...\n"
          ]
        },
        {
          "output_type": "stream",
          "name": "stderr",
          "text": [
            "\n",
            "[*********************100%***********************]  1 of 1 completed\n",
            "[*********************100%***********************]  1 of 1 completed\n"
          ]
        },
        {
          "output_type": "stream",
          "name": "stdout",
          "text": [
            "start\n",
            "Fetching data for AMD...\n",
            "start\n",
            "Fetching data for AES...\n"
          ]
        },
        {
          "output_type": "stream",
          "name": "stderr",
          "text": [
            "[*********************100%***********************]  1 of 1 completed\n",
            "[*********************100%***********************]  1 of 1 completed\n"
          ]
        },
        {
          "output_type": "stream",
          "name": "stdout",
          "text": [
            "start\n",
            "Fetching data for AFL...\n",
            "start\n",
            "Fetching data for A...\n"
          ]
        },
        {
          "output_type": "stream",
          "name": "stderr",
          "text": [
            "[*********************100%***********************]  1 of 1 completed\n",
            "[*********************100%***********************]  1 of 1 completed\n",
            "[*********************100%***********************]  1 of 1 completed\n"
          ]
        },
        {
          "output_type": "stream",
          "name": "stdout",
          "text": [
            "start\n",
            "Fetching data for APD...\n",
            "start\n",
            "Fetching data for ABNB...\n",
            "start\n",
            "Fetching data for AKAM...\n"
          ]
        },
        {
          "output_type": "stream",
          "name": "stderr",
          "text": [
            "[*********************100%***********************]  1 of 1 completed\n",
            "[*********************100%***********************]  1 of 1 completed\n"
          ]
        },
        {
          "output_type": "stream",
          "name": "stdout",
          "text": [
            "start\n",
            "Fetching data for ALB...\n",
            "start\n",
            "Fetching data for ARE...\n"
          ]
        },
        {
          "output_type": "stream",
          "name": "stderr",
          "text": [
            "[*********************100%***********************]  1 of 1 completed\n",
            "[*********************100%***********************]  1 of 1 completed\n",
            "[*********************100%***********************]  1 of 1 completed\n"
          ]
        },
        {
          "output_type": "stream",
          "name": "stdout",
          "text": [
            "start\n",
            "Fetching data for ALGN...\n",
            "start\n",
            "Fetching data for ALLE...\n",
            "start\n",
            "Fetching data for LNT...\n"
          ]
        },
        {
          "output_type": "stream",
          "name": "stderr",
          "text": [
            "[*********************100%***********************]  1 of 1 completed\n",
            "[*********************100%***********************]  1 of 1 completed\n",
            "[*********************100%***********************]  1 of 1 completed"
          ]
        },
        {
          "output_type": "stream",
          "name": "stdout",
          "text": [
            "start\n",
            "Fetching data for ALL...\n",
            "start\n",
            "Fetching data for GOOGL...\n",
            "start\n",
            "Fetching data for GOOG...\n"
          ]
        },
        {
          "output_type": "stream",
          "name": "stderr",
          "text": [
            "\n",
            "[*********************100%***********************]  1 of 1 completed\n",
            "[*********************100%***********************]  1 of 1 completed\n"
          ]
        },
        {
          "output_type": "stream",
          "name": "stdout",
          "text": [
            "start\n",
            "Fetching data for MO...\n",
            "start\n",
            "Fetching data for AMZN...\n"
          ]
        },
        {
          "output_type": "stream",
          "name": "stderr",
          "text": [
            "[*********************100%***********************]  1 of 1 completed\n",
            "[*********************100%***********************]  1 of 1 completed\n",
            "[*********************100%***********************]  1 of 1 completed\n"
          ]
        },
        {
          "output_type": "stream",
          "name": "stdout",
          "text": [
            "start\n",
            "Fetching data for AMCR...\n",
            "start\n",
            "Fetching data for AEE...\n",
            "start\n",
            "Fetching data for AEP...\n"
          ]
        },
        {
          "output_type": "stream",
          "name": "stderr",
          "text": [
            "[*********************100%***********************]  1 of 1 completed\n",
            "[*********************100%***********************]  1 of 1 completed\n"
          ]
        },
        {
          "output_type": "stream",
          "name": "stdout",
          "text": [
            "start\n",
            "Fetching data for AXP...\n",
            "start\n",
            "Fetching data for AIG...\n"
          ]
        },
        {
          "output_type": "stream",
          "name": "stderr",
          "text": [
            "[*********************100%***********************]  1 of 1 completed\n",
            "[*********************100%***********************]  1 of 1 completed\n",
            "[*********************100%***********************]  1 of 1 completed"
          ]
        },
        {
          "output_type": "stream",
          "name": "stdout",
          "text": [
            "start\n",
            "Fetching data for AMT...\n",
            "start\n",
            "Fetching data for AWK...\n"
          ]
        },
        {
          "output_type": "stream",
          "name": "stderr",
          "text": [
            "\n",
            "[*********************100%***********************]  1 of 1 completed\n"
          ]
        },
        {
          "output_type": "stream",
          "name": "stdout",
          "text": [
            "start\n",
            "Fetching data for AMP...\n",
            "start\n",
            "Fetching data for AME...\n"
          ]
        },
        {
          "output_type": "stream",
          "name": "stderr",
          "text": [
            "[*********************100%***********************]  1 of 1 completed\n",
            "[*********************100%***********************]  1 of 1 completed\n",
            "[*********************100%***********************]  1 of 1 completed"
          ]
        },
        {
          "output_type": "stream",
          "name": "stdout",
          "text": [
            "start\n",
            "Fetching data for AMGN...\n",
            "start\n",
            "Fetching data for APH...\n"
          ]
        },
        {
          "output_type": "stream",
          "name": "stderr",
          "text": [
            "\n",
            "[*********************100%***********************]  1 of 1 completed\n",
            "[*********************100%***********************]  1 of 1 completed\n"
          ]
        },
        {
          "output_type": "stream",
          "name": "stdout",
          "text": [
            "start\n",
            "Fetching data for ADI...\n",
            "start\n",
            "Fetching data for ANSS...\n",
            "start\n",
            "Fetching data for AON...\n"
          ]
        },
        {
          "output_type": "stream",
          "name": "stderr",
          "text": [
            "[*********************100%***********************]  1 of 1 completed\n",
            "[*********************100%***********************]  1 of 1 completed\n"
          ]
        },
        {
          "output_type": "stream",
          "name": "stdout",
          "text": [
            "start\n",
            "Fetching data for APA...\n",
            "start\n",
            "Fetching data for APO...\n"
          ]
        },
        {
          "output_type": "stream",
          "name": "stderr",
          "text": [
            "[*********************100%***********************]  1 of 1 completed\n",
            "[*********************100%***********************]  1 of 1 completed\n"
          ]
        },
        {
          "output_type": "stream",
          "name": "stdout",
          "text": [
            "start\n",
            "Fetching data for AAPL...\n",
            "start\n",
            "Fetching data for AMAT...\n"
          ]
        },
        {
          "output_type": "stream",
          "name": "stderr",
          "text": [
            "[*********************100%***********************]  1 of 1 completed\n",
            "[*********************100%***********************]  1 of 1 completed\n",
            "[*********************100%***********************]  1 of 1 completed\n"
          ]
        },
        {
          "output_type": "stream",
          "name": "stdout",
          "text": [
            "start\n",
            "Fetching data for APTV...\n",
            "start\n",
            "Fetching data for ACGL...\n",
            "start\n",
            "Fetching data for ADM...\n"
          ]
        },
        {
          "output_type": "stream",
          "name": "stderr",
          "text": [
            "[*********************100%***********************]  1 of 1 completed\n",
            "[*********************100%***********************]  1 of 1 completed\n",
            "[*********************100%***********************]  1 of 1 completed\n"
          ]
        },
        {
          "output_type": "stream",
          "name": "stdout",
          "text": [
            "start\n",
            "Fetching data for ANET...\n",
            "start\n",
            "Fetching data for AJG...\n",
            "start\n",
            "Fetching data for AIZ...\n"
          ]
        },
        {
          "output_type": "stream",
          "name": "stderr",
          "text": [
            "[*********************100%***********************]  1 of 1 completed\n",
            "[*********************100%***********************]  1 of 1 completed\n"
          ]
        },
        {
          "output_type": "stream",
          "name": "stdout",
          "text": [
            "start\n",
            "Fetching data for T...\n",
            "start\n",
            "Fetching data for ATO...\n"
          ]
        },
        {
          "output_type": "stream",
          "name": "stderr",
          "text": [
            "[*********************100%***********************]  1 of 1 completed\n",
            "[*********************100%***********************]  1 of 1 completed\n"
          ]
        },
        {
          "output_type": "stream",
          "name": "stdout",
          "text": [
            "start\n",
            "Fetching data for ADSK...\n",
            "start\n",
            "Fetching data for ADP...\n"
          ]
        },
        {
          "output_type": "stream",
          "name": "stderr",
          "text": [
            "[*********************100%***********************]  1 of 1 completed\n",
            "[*********************100%***********************]  1 of 1 completed\n",
            "[*********************100%***********************]  1 of 1 completed\n"
          ]
        },
        {
          "output_type": "stream",
          "name": "stdout",
          "text": [
            "start\n",
            "Fetching data for AZO...\n",
            "start\n",
            "Fetching data for AVB...\n",
            "start\n",
            "Fetching data for AVY...\n"
          ]
        },
        {
          "output_type": "stream",
          "name": "stderr",
          "text": [
            "[*********************100%***********************]  1 of 1 completed\n",
            "[*********************100%***********************]  1 of 1 completed\n"
          ]
        },
        {
          "output_type": "stream",
          "name": "stdout",
          "text": [
            "start\n",
            "Fetching data for AXON...\n",
            "start\n",
            "Fetching data for BKR...\n"
          ]
        },
        {
          "output_type": "stream",
          "name": "stderr",
          "text": [
            "[*********************100%***********************]  1 of 1 completed\n",
            "[*********************100%***********************]  1 of 1 completed\n"
          ]
        },
        {
          "output_type": "stream",
          "name": "stdout",
          "text": [
            "start\n",
            "Fetching data for BALL...\n",
            "start\n",
            "Fetching data for BAC...\n"
          ]
        },
        {
          "output_type": "stream",
          "name": "stderr",
          "text": [
            "[*********************100%***********************]  1 of 1 completed\n",
            "[*********************100%***********************]  1 of 1 completed\n"
          ]
        },
        {
          "output_type": "stream",
          "name": "stdout",
          "text": [
            "start\n",
            "Fetching data for BAX...\n",
            "start\n",
            "Fetching data for BDX...\n"
          ]
        },
        {
          "output_type": "stream",
          "name": "stderr",
          "text": [
            "\r[*********************100%***********************]  1 of 1 completed\n"
          ]
        },
        {
          "output_type": "stream",
          "name": "stdout",
          "text": [
            "start\n",
            "Fetching data for BRK.B...\n"
          ]
        },
        {
          "output_type": "stream",
          "name": "stderr",
          "text": [
            "\r[*********************100%***********************]  1 of 1 completed\n",
            "ERROR:yfinance:\n",
            "1 Failed download:\n",
            "ERROR:yfinance:['BRK.B']: YFPricesMissingError('possibly delisted; no price data found  (period=6mo) (Yahoo error = \"No data found, symbol may be delisted\")')\n",
            "[*********************100%***********************]  1 of 1 completed\n",
            "[*********************100%***********************]  1 of 1 completed"
          ]
        },
        {
          "output_type": "stream",
          "name": "stdout",
          "text": [
            "Skipping BRK.B: No data found\n",
            "start\n",
            "Fetching data for BBY...\n",
            "start\n",
            "Fetching data for TECH...\n"
          ]
        },
        {
          "output_type": "stream",
          "name": "stderr",
          "text": [
            "\n",
            "[*********************100%***********************]  1 of 1 completed\n"
          ]
        },
        {
          "output_type": "stream",
          "name": "stdout",
          "text": [
            "start\n",
            "Fetching data for BIIB...\n",
            "start\n",
            "Fetching data for BLK...\n"
          ]
        },
        {
          "output_type": "stream",
          "name": "stderr",
          "text": [
            "[*********************100%***********************]  1 of 1 completed\n",
            "[*********************100%***********************]  1 of 1 completed\n"
          ]
        },
        {
          "output_type": "stream",
          "name": "stdout",
          "text": [
            "start\n",
            "Fetching data for BX...\n",
            "start\n",
            "Fetching data for BK...\n"
          ]
        },
        {
          "output_type": "stream",
          "name": "stderr",
          "text": [
            "[*********************100%***********************]  1 of 1 completed\n",
            "[*********************100%***********************]  1 of 1 completed\n"
          ]
        },
        {
          "output_type": "stream",
          "name": "stdout",
          "text": [
            "start\n",
            "Fetching data for BA...\n",
            "start\n",
            "Fetching data for BKNG...\n"
          ]
        },
        {
          "output_type": "stream",
          "name": "stderr",
          "text": [
            "[*********************100%***********************]  1 of 1 completed\n",
            "[*********************100%***********************]  1 of 1 completed\n",
            "[*********************100%***********************]  1 of 1 completed"
          ]
        },
        {
          "output_type": "stream",
          "name": "stdout",
          "text": [
            "start\n",
            "Fetching data for BWA...\n",
            "start\n",
            "Fetching data for BSX...\n",
            "start\n",
            "Fetching data for BMY...\n"
          ]
        },
        {
          "output_type": "stream",
          "name": "stderr",
          "text": [
            "\n",
            "[*********************100%***********************]  1 of 1 completed\n",
            "[*********************100%***********************]  1 of 1 completed\n"
          ]
        },
        {
          "output_type": "stream",
          "name": "stdout",
          "text": [
            "start\n",
            "Fetching data for AVGO...\n",
            "start\n",
            "Fetching data for BR...\n"
          ]
        },
        {
          "output_type": "stream",
          "name": "stderr",
          "text": [
            "[*********************100%***********************]  1 of 1 completed\n",
            "[*********************100%***********************]  1 of 1 completed\n",
            "[*********************100%***********************]  1 of 1 completed\n",
            "ERROR:yfinance:\n",
            "1 Failed download:\n",
            "ERROR:yfinance:['BF.B']: YFPricesMissingError('possibly delisted; no price data found  (period=6mo)')\n"
          ]
        },
        {
          "output_type": "stream",
          "name": "stdout",
          "text": [
            "start\n",
            "Fetching data for BRO...\n",
            "start\n",
            "Fetching data for BF.B...\n",
            "Skipping BF.B: No data found\n",
            "start\n",
            "Fetching data for BLDR...\n"
          ]
        },
        {
          "output_type": "stream",
          "name": "stderr",
          "text": [
            "[*********************100%***********************]  1 of 1 completed\n",
            "[*********************100%***********************]  1 of 1 completed\n",
            "[*********************100%***********************]  1 of 1 completed\n"
          ]
        },
        {
          "output_type": "stream",
          "name": "stdout",
          "text": [
            "start\n",
            "Fetching data for BG...\n",
            "start\n",
            "Fetching data for BXP...\n"
          ]
        },
        {
          "output_type": "stream",
          "name": "stderr",
          "text": [
            "[*********************100%***********************]  1 of 1 completed\n",
            "[*********************100%***********************]  1 of 1 completed\n"
          ]
        },
        {
          "output_type": "stream",
          "name": "stdout",
          "text": [
            "start\n",
            "Fetching data for CHRW...\n",
            "start\n",
            "Fetching data for CDNS...\n",
            "start\n",
            "Fetching data for CZR...\n"
          ]
        },
        {
          "output_type": "stream",
          "name": "stderr",
          "text": [
            "[*********************100%***********************]  1 of 1 completed\n",
            "[*********************100%***********************]  1 of 1 completed\n"
          ]
        },
        {
          "output_type": "stream",
          "name": "stdout",
          "text": [
            "start\n",
            "Fetching data for CPT...\n",
            "start\n",
            "Fetching data for CPB...\n"
          ]
        },
        {
          "output_type": "stream",
          "name": "stderr",
          "text": [
            "[*********************100%***********************]  1 of 1 completed\n",
            "[*********************100%***********************]  1 of 1 completed\n"
          ]
        },
        {
          "output_type": "stream",
          "name": "stdout",
          "text": [
            "start\n",
            "Fetching data for COF...\n",
            "start\n",
            "Fetching data for CAH...\n"
          ]
        },
        {
          "output_type": "stream",
          "name": "stderr",
          "text": [
            "[*********************100%***********************]  1 of 1 completed\n",
            "[*********************100%***********************]  1 of 1 completed\n",
            "[*********************100%***********************]  1 of 1 completed"
          ]
        },
        {
          "output_type": "stream",
          "name": "stdout",
          "text": [
            "start\n",
            "Fetching data for KMX...\n",
            "start\n",
            "Fetching data for CCL...\n",
            "start\n",
            "Fetching data for CARR...\n"
          ]
        },
        {
          "output_type": "stream",
          "name": "stderr",
          "text": [
            "\n",
            "[*********************100%***********************]  1 of 1 completed\n",
            "[*********************100%***********************]  1 of 1 completed"
          ]
        },
        {
          "output_type": "stream",
          "name": "stdout",
          "text": [
            "start\n",
            "Fetching data for CAT...\n"
          ]
        },
        {
          "output_type": "stream",
          "name": "stderr",
          "text": [
            "\n",
            "[*********************100%***********************]  1 of 1 completed\n",
            "[*********************100%***********************]  1 of 1 completed\n"
          ]
        },
        {
          "output_type": "stream",
          "name": "stdout",
          "text": [
            "start\n",
            "Fetching data for CBOE...\n",
            "start\n",
            "Fetching data for CBRE...\n",
            "start\n",
            "Fetching data for CDW...\n"
          ]
        },
        {
          "output_type": "stream",
          "name": "stderr",
          "text": [
            "[*********************100%***********************]  1 of 1 completed\n",
            "[*********************100%***********************]  1 of 1 completed\n"
          ]
        },
        {
          "output_type": "stream",
          "name": "stdout",
          "text": [
            "start\n",
            "Fetching data for CE...\n",
            "start\n",
            "Fetching data for COR...\n"
          ]
        },
        {
          "output_type": "stream",
          "name": "stderr",
          "text": [
            "[*********************100%***********************]  1 of 1 completed\n",
            "[*********************100%***********************]  1 of 1 completed\n"
          ]
        },
        {
          "output_type": "stream",
          "name": "stdout",
          "text": [
            "start\n",
            "Fetching data for CNC...\n",
            "start\n",
            "Fetching data for CNP...\n"
          ]
        },
        {
          "output_type": "stream",
          "name": "stderr",
          "text": [
            "[*********************100%***********************]  1 of 1 completed\n",
            "[*********************100%***********************]  1 of 1 completed\n",
            "[*********************100%***********************]  1 of 1 completed\n"
          ]
        },
        {
          "output_type": "stream",
          "name": "stdout",
          "text": [
            "start\n",
            "Fetching data for CF...\n",
            "start\n",
            "Fetching data for CRL...\n",
            "start\n",
            "Fetching data for SCHW...\n"
          ]
        },
        {
          "output_type": "stream",
          "name": "stderr",
          "text": [
            "[*********************100%***********************]  1 of 1 completed\n",
            "[*********************100%***********************]  1 of 1 completed\n"
          ]
        },
        {
          "output_type": "stream",
          "name": "stdout",
          "text": [
            "start\n",
            "Fetching data for CHTR...\n",
            "start\n",
            "Fetching data for CVX...\n"
          ]
        },
        {
          "output_type": "stream",
          "name": "stderr",
          "text": [
            "[*********************100%***********************]  1 of 1 completed\n",
            "[*********************100%***********************]  1 of 1 completed\n",
            "[*********************100%***********************]  1 of 1 completed"
          ]
        },
        {
          "output_type": "stream",
          "name": "stdout",
          "text": [
            "start\n",
            "Fetching data for CMG...\n",
            "start\n",
            "Fetching data for CB...\n",
            "start\n",
            "Fetching data for CHD...\n"
          ]
        },
        {
          "output_type": "stream",
          "name": "stderr",
          "text": [
            "\n",
            "[*********************100%***********************]  1 of 1 completed\n",
            "[*********************100%***********************]  1 of 1 completed\n"
          ]
        },
        {
          "output_type": "stream",
          "name": "stdout",
          "text": [
            "start\n",
            "Fetching data for CI...\n",
            "start\n",
            "Fetching data for CINF...\n"
          ]
        },
        {
          "output_type": "stream",
          "name": "stderr",
          "text": [
            "[*********************100%***********************]  1 of 1 completed\n",
            "[*********************100%***********************]  1 of 1 completed\n",
            "[*********************100%***********************]  1 of 1 completed"
          ]
        },
        {
          "output_type": "stream",
          "name": "stdout",
          "text": [
            "start\n",
            "Fetching data for CTAS...\n",
            "start\n",
            "Fetching data for CSCO...\n"
          ]
        },
        {
          "output_type": "stream",
          "name": "stderr",
          "text": [
            "\n",
            "[*********************100%***********************]  1 of 1 completed\n"
          ]
        },
        {
          "output_type": "stream",
          "name": "stdout",
          "text": [
            "start\n",
            "Fetching data for C...\n",
            "start\n",
            "Fetching data for CFG...\n"
          ]
        },
        {
          "output_type": "stream",
          "name": "stderr",
          "text": [
            "[*********************100%***********************]  1 of 1 completed\n",
            "[*********************100%***********************]  1 of 1 completed\n"
          ]
        },
        {
          "output_type": "stream",
          "name": "stdout",
          "text": [
            "start\n",
            "Fetching data for CLX...\n",
            "start\n",
            "Fetching data for CME...\n"
          ]
        },
        {
          "output_type": "stream",
          "name": "stderr",
          "text": [
            "[*********************100%***********************]  1 of 1 completed\n",
            "[*********************100%***********************]  1 of 1 completed\n"
          ]
        },
        {
          "output_type": "stream",
          "name": "stdout",
          "text": [
            "start\n",
            "Fetching data for CMS...\n",
            "start\n",
            "Fetching data for KO...\n"
          ]
        },
        {
          "output_type": "stream",
          "name": "stderr",
          "text": [
            "[*********************100%***********************]  1 of 1 completed\n",
            "[*********************100%***********************]  1 of 1 completed\n"
          ]
        },
        {
          "output_type": "stream",
          "name": "stdout",
          "text": [
            "start\n",
            "Fetching data for CTSH...\n",
            "start\n",
            "Fetching data for CL...\n"
          ]
        },
        {
          "output_type": "stream",
          "name": "stderr",
          "text": [
            "[*********************100%***********************]  1 of 1 completed\n",
            "[*********************100%***********************]  1 of 1 completed\n"
          ]
        },
        {
          "output_type": "stream",
          "name": "stdout",
          "text": [
            "start\n",
            "Fetching data for CMCSA...\n",
            "start\n",
            "Fetching data for CAG...\n"
          ]
        },
        {
          "output_type": "stream",
          "name": "stderr",
          "text": [
            "[*********************100%***********************]  1 of 1 completed\n",
            "[*********************100%***********************]  1 of 1 completed\n"
          ]
        },
        {
          "output_type": "stream",
          "name": "stdout",
          "text": [
            "start\n",
            "Fetching data for COP...\n",
            "start\n",
            "Fetching data for ED...\n"
          ]
        },
        {
          "output_type": "stream",
          "name": "stderr",
          "text": [
            "[*********************100%***********************]  1 of 1 completed\n",
            "[*********************100%***********************]  1 of 1 completed\n",
            "[*********************100%***********************]  1 of 1 completed\n"
          ]
        },
        {
          "output_type": "stream",
          "name": "stdout",
          "text": [
            "start\n",
            "Fetching data for STZ...\n",
            "start\n",
            "Fetching data for CEG...\n",
            "start\n",
            "Fetching data for COO...\n"
          ]
        },
        {
          "output_type": "stream",
          "name": "stderr",
          "text": [
            "[*********************100%***********************]  1 of 1 completed\n",
            "[*********************100%***********************]  1 of 1 completed\n",
            "[*********************100%***********************]  1 of 1 completed"
          ]
        },
        {
          "output_type": "stream",
          "name": "stdout",
          "text": [
            "start\n",
            "Fetching data for CPRT...\n",
            "start\n",
            "Fetching data for GLW...\n",
            "start\n",
            "Fetching data for CPAY...\n"
          ]
        },
        {
          "output_type": "stream",
          "name": "stderr",
          "text": [
            "\n",
            "[*********************100%***********************]  1 of 1 completed\n",
            "[*********************100%***********************]  1 of 1 completed\n",
            "[*********************100%***********************]  1 of 1 completed\n"
          ]
        },
        {
          "output_type": "stream",
          "name": "stdout",
          "text": [
            "start\n",
            "Fetching data for CTVA...\n",
            "start\n",
            "Fetching data for CSGP...\n"
          ]
        },
        {
          "output_type": "stream",
          "name": "stderr",
          "text": [
            "\r[*********************100%***********************]  1 of 1 completed\n"
          ]
        },
        {
          "output_type": "stream",
          "name": "stdout",
          "text": [
            "start\n",
            "Fetching data for COST...\n",
            "start\n",
            "Fetching data for CTRA...\n"
          ]
        },
        {
          "output_type": "stream",
          "name": "stderr",
          "text": [
            "[*********************100%***********************]  1 of 1 completed\n",
            "[*********************100%***********************]  1 of 1 completed\n",
            "[*********************100%***********************]  1 of 1 completed\n"
          ]
        },
        {
          "output_type": "stream",
          "name": "stdout",
          "text": [
            "start\n",
            "Fetching data for CRWD...\n",
            "start\n",
            "Fetching data for CCI...\n",
            "start\n",
            "Fetching data for CSX...\n"
          ]
        },
        {
          "output_type": "stream",
          "name": "stderr",
          "text": [
            "[*********************100%***********************]  1 of 1 completed\n",
            "[*********************100%***********************]  1 of 1 completed\n"
          ]
        },
        {
          "output_type": "stream",
          "name": "stdout",
          "text": [
            "start\n",
            "Fetching data for CMI...\n",
            "start\n",
            "Fetching data for CVS...\n"
          ]
        },
        {
          "output_type": "stream",
          "name": "stderr",
          "text": [
            "[*********************100%***********************]  1 of 1 completed\n",
            "[*********************100%***********************]  1 of 1 completed\n"
          ]
        },
        {
          "output_type": "stream",
          "name": "stdout",
          "text": [
            "start\n",
            "Fetching data for DHR...\n",
            "start\n",
            "Fetching data for DRI...\n"
          ]
        },
        {
          "output_type": "stream",
          "name": "stderr",
          "text": [
            "[*********************100%***********************]  1 of 1 completed\n",
            "[*********************100%***********************]  1 of 1 completed\n",
            "[*********************100%***********************]  1 of 1 completed\n"
          ]
        },
        {
          "output_type": "stream",
          "name": "stdout",
          "text": [
            "start\n",
            "Fetching data for DVA...\n",
            "start\n",
            "Fetching data for DAY...\n",
            "start\n",
            "Fetching data for DECK...\n"
          ]
        },
        {
          "output_type": "stream",
          "name": "stderr",
          "text": [
            "[*********************100%***********************]  1 of 1 completed\n",
            "[*********************100%***********************]  1 of 1 completed\n"
          ]
        },
        {
          "output_type": "stream",
          "name": "stdout",
          "text": [
            "start\n",
            "Fetching data for DE...\n",
            "start\n",
            "Fetching data for DELL...\n"
          ]
        },
        {
          "output_type": "stream",
          "name": "stderr",
          "text": [
            "[*********************100%***********************]  1 of 1 completed\n",
            "[*********************100%***********************]  1 of 1 completed\n"
          ]
        },
        {
          "output_type": "stream",
          "name": "stdout",
          "text": [
            "start\n",
            "Fetching data for DAL...\n",
            "start\n",
            "Fetching data for DVN...\n"
          ]
        },
        {
          "output_type": "stream",
          "name": "stderr",
          "text": [
            "[*********************100%***********************]  1 of 1 completed\n",
            "[*********************100%***********************]  1 of 1 completed\n",
            "[*********************100%***********************]  1 of 1 completed\n"
          ]
        },
        {
          "output_type": "stream",
          "name": "stdout",
          "text": [
            "start\n",
            "Fetching data for DXCM...\n",
            "start\n",
            "Fetching data for FANG...\n",
            "start\n",
            "Fetching data for DLR...\n"
          ]
        },
        {
          "output_type": "stream",
          "name": "stderr",
          "text": [
            "[*********************100%***********************]  1 of 1 completed\n",
            "[*********************100%***********************]  1 of 1 completed\n",
            "[*********************100%***********************]  1 of 1 completed\n"
          ]
        },
        {
          "output_type": "stream",
          "name": "stdout",
          "text": [
            "start\n",
            "Fetching data for DFS...\n",
            "start\n",
            "Fetching data for DG...\n",
            "start\n",
            "Fetching data for DLTR...\n"
          ]
        },
        {
          "output_type": "stream",
          "name": "stderr",
          "text": [
            "[*********************100%***********************]  1 of 1 completed\n",
            "[*********************100%***********************]  1 of 1 completed\n"
          ]
        },
        {
          "output_type": "stream",
          "name": "stdout",
          "text": [
            "start\n",
            "Fetching data for D...\n",
            "start\n",
            "Fetching data for DPZ...\n"
          ]
        },
        {
          "output_type": "stream",
          "name": "stderr",
          "text": [
            "[*********************100%***********************]  1 of 1 completed\n",
            "[*********************100%***********************]  1 of 1 completed\n"
          ]
        },
        {
          "output_type": "stream",
          "name": "stdout",
          "text": [
            "start\n",
            "Fetching data for DOV...\n",
            "start\n",
            "Fetching data for DOW...\n"
          ]
        },
        {
          "output_type": "stream",
          "name": "stderr",
          "text": [
            "[*********************100%***********************]  1 of 1 completed\n",
            "[*********************100%***********************]  1 of 1 completed\n"
          ]
        },
        {
          "output_type": "stream",
          "name": "stdout",
          "text": [
            "start\n",
            "Fetching data for DHI...\n",
            "start\n",
            "Fetching data for DTE...\n"
          ]
        },
        {
          "output_type": "stream",
          "name": "stderr",
          "text": [
            "[*********************100%***********************]  1 of 1 completed\n",
            "[*********************100%***********************]  1 of 1 completed\n"
          ]
        },
        {
          "output_type": "stream",
          "name": "stdout",
          "text": [
            "start\n",
            "Fetching data for DUK...\n",
            "start\n",
            "Fetching data for DD...\n"
          ]
        },
        {
          "output_type": "stream",
          "name": "stderr",
          "text": [
            "[*********************100%***********************]  1 of 1 completed\n",
            "[*********************100%***********************]  1 of 1 completed\n"
          ]
        },
        {
          "output_type": "stream",
          "name": "stdout",
          "text": [
            "start\n",
            "Fetching data for EMN...\n",
            "start\n",
            "Fetching data for ETN...\n"
          ]
        },
        {
          "output_type": "stream",
          "name": "stderr",
          "text": [
            "[*********************100%***********************]  1 of 1 completed\n",
            "[*********************100%***********************]  1 of 1 completed\n"
          ]
        },
        {
          "output_type": "stream",
          "name": "stdout",
          "text": [
            "start\n",
            "Fetching data for EBAY...\n",
            "start\n",
            "Fetching data for ECL...\n"
          ]
        },
        {
          "output_type": "stream",
          "name": "stderr",
          "text": [
            "[*********************100%***********************]  1 of 1 completed\n",
            "[*********************100%***********************]  1 of 1 completed\n"
          ]
        },
        {
          "output_type": "stream",
          "name": "stdout",
          "text": [
            "start\n",
            "Fetching data for EIX...\n",
            "start\n",
            "Fetching data for EW...\n"
          ]
        },
        {
          "output_type": "stream",
          "name": "stderr",
          "text": [
            "[*********************100%***********************]  1 of 1 completed\n",
            "[*********************100%***********************]  1 of 1 completed\n",
            "[*********************100%***********************]  1 of 1 completed"
          ]
        },
        {
          "output_type": "stream",
          "name": "stdout",
          "text": [
            "start\n",
            "Fetching data for EA...\n",
            "start\n",
            "Fetching data for ELV...\n"
          ]
        },
        {
          "output_type": "stream",
          "name": "stderr",
          "text": [
            "\n",
            "[*********************100%***********************]  1 of 1 completed\n",
            "[*********************100%***********************]  1 of 1 completed"
          ]
        },
        {
          "output_type": "stream",
          "name": "stdout",
          "text": [
            "start\n",
            "Fetching data for EMR...\n",
            "start\n",
            "Fetching data for ENPH...\n"
          ]
        },
        {
          "output_type": "stream",
          "name": "stderr",
          "text": [
            "\n"
          ]
        },
        {
          "output_type": "stream",
          "name": "stdout",
          "text": [
            "start\n",
            "Fetching data for ETR...\n"
          ]
        },
        {
          "output_type": "stream",
          "name": "stderr",
          "text": [
            "[*********************100%***********************]  1 of 1 completed\n",
            "[*********************100%***********************]  1 of 1 completed\n"
          ]
        },
        {
          "output_type": "stream",
          "name": "stdout",
          "text": [
            "start\n",
            "Fetching data for EOG...\n",
            "start\n",
            "Fetching data for EPAM...\n"
          ]
        },
        {
          "output_type": "stream",
          "name": "stderr",
          "text": [
            "[*********************100%***********************]  1 of 1 completed\n",
            "[*********************100%***********************]  1 of 1 completed\n"
          ]
        },
        {
          "output_type": "stream",
          "name": "stdout",
          "text": [
            "start\n",
            "Fetching data for EQT...\n",
            "start\n",
            "Fetching data for EFX...\n"
          ]
        },
        {
          "output_type": "stream",
          "name": "stderr",
          "text": [
            "[*********************100%***********************]  1 of 1 completed\n",
            "[*********************100%***********************]  1 of 1 completed\n",
            "[*********************100%***********************]  1 of 1 completed"
          ]
        },
        {
          "output_type": "stream",
          "name": "stdout",
          "text": [
            "start\n",
            "Fetching data for EQIX...\n",
            "start\n",
            "Fetching data for EQR...\n"
          ]
        },
        {
          "output_type": "stream",
          "name": "stderr",
          "text": [
            "\n",
            "[*********************100%***********************]  1 of 1 completed\n"
          ]
        },
        {
          "output_type": "stream",
          "name": "stdout",
          "text": [
            "start\n",
            "Fetching data for ERIE...\n",
            "start\n",
            "Fetching data for ESS...\n"
          ]
        },
        {
          "output_type": "stream",
          "name": "stderr",
          "text": [
            "[*********************100%***********************]  1 of 1 completed\n",
            "[*********************100%***********************]  1 of 1 completed\n"
          ]
        },
        {
          "output_type": "stream",
          "name": "stdout",
          "text": [
            "start\n",
            "Fetching data for EL...\n",
            "start\n",
            "Fetching data for EG...\n"
          ]
        },
        {
          "output_type": "stream",
          "name": "stderr",
          "text": [
            "[*********************100%***********************]  1 of 1 completed\n",
            "[*********************100%***********************]  1 of 1 completed\n"
          ]
        },
        {
          "output_type": "stream",
          "name": "stdout",
          "text": [
            "start\n",
            "Fetching data for EVRG...\n",
            "start\n",
            "Fetching data for ES...\n"
          ]
        },
        {
          "output_type": "stream",
          "name": "stderr",
          "text": [
            "[*********************100%***********************]  1 of 1 completed\n",
            "[*********************100%***********************]  1 of 1 completed\n"
          ]
        },
        {
          "output_type": "stream",
          "name": "stdout",
          "text": [
            "start\n",
            "Fetching data for EXC...\n",
            "start\n",
            "Fetching data for EXPE...\n"
          ]
        },
        {
          "output_type": "stream",
          "name": "stderr",
          "text": [
            "[*********************100%***********************]  1 of 1 completed\n",
            "[*********************100%***********************]  1 of 1 completed\n"
          ]
        },
        {
          "output_type": "stream",
          "name": "stdout",
          "text": [
            "start\n",
            "Fetching data for EXPD...\n",
            "start\n",
            "Fetching data for EXR...\n"
          ]
        },
        {
          "output_type": "stream",
          "name": "stderr",
          "text": [
            "[*********************100%***********************]  1 of 1 completed\n",
            "[*********************100%***********************]  1 of 1 completed\n"
          ]
        },
        {
          "output_type": "stream",
          "name": "stdout",
          "text": [
            "start\n",
            "Fetching data for XOM...\n",
            "start\n",
            "Fetching data for FFIV...\n"
          ]
        },
        {
          "output_type": "stream",
          "name": "stderr",
          "text": [
            "[*********************100%***********************]  1 of 1 completed\n",
            "[*********************100%***********************]  1 of 1 completed\n"
          ]
        },
        {
          "output_type": "stream",
          "name": "stdout",
          "text": [
            "start\n",
            "Fetching data for FDS...\n",
            "start\n",
            "Fetching data for FICO...\n"
          ]
        },
        {
          "output_type": "stream",
          "name": "stderr",
          "text": [
            "[*********************100%***********************]  1 of 1 completed\n",
            "[*********************100%***********************]  1 of 1 completed\n"
          ]
        },
        {
          "output_type": "stream",
          "name": "stdout",
          "text": [
            "start\n",
            "Fetching data for FAST...\n",
            "start\n",
            "Fetching data for FRT...\n"
          ]
        },
        {
          "output_type": "stream",
          "name": "stderr",
          "text": [
            "[*********************100%***********************]  1 of 1 completed\n",
            "[*********************100%***********************]  1 of 1 completed\n"
          ]
        },
        {
          "output_type": "stream",
          "name": "stdout",
          "text": [
            "start\n",
            "Fetching data for FDX...\n",
            "start\n",
            "Fetching data for FIS...\n"
          ]
        },
        {
          "output_type": "stream",
          "name": "stderr",
          "text": [
            "[*********************100%***********************]  1 of 1 completed\n",
            "[*********************100%***********************]  1 of 1 completed\n"
          ]
        },
        {
          "output_type": "stream",
          "name": "stdout",
          "text": [
            "start\n",
            "Fetching data for FITB...\n",
            "start\n",
            "Fetching data for FSLR...\n"
          ]
        },
        {
          "output_type": "stream",
          "name": "stderr",
          "text": [
            "[*********************100%***********************]  1 of 1 completed\n",
            "[*********************100%***********************]  1 of 1 completed\n"
          ]
        },
        {
          "output_type": "stream",
          "name": "stdout",
          "text": [
            "start\n",
            "Fetching data for FE...\n",
            "start\n",
            "Fetching data for FI...\n"
          ]
        },
        {
          "output_type": "stream",
          "name": "stderr",
          "text": [
            "[*********************100%***********************]  1 of 1 completed\n",
            "[*********************100%***********************]  1 of 1 completed\n"
          ]
        },
        {
          "output_type": "stream",
          "name": "stdout",
          "text": [
            "start\n",
            "Fetching data for FMC...\n",
            "start\n",
            "Fetching data for F...\n"
          ]
        },
        {
          "output_type": "stream",
          "name": "stderr",
          "text": [
            "[*********************100%***********************]  1 of 1 completed\n",
            "[*********************100%***********************]  1 of 1 completed\n",
            "[*********************100%***********************]  1 of 1 completed\n"
          ]
        },
        {
          "output_type": "stream",
          "name": "stdout",
          "text": [
            "start\n",
            "Fetching data for FTNT...\n",
            "start\n",
            "Fetching data for FTV...\n",
            "start\n",
            "Fetching data for FOXA...\n"
          ]
        },
        {
          "output_type": "stream",
          "name": "stderr",
          "text": [
            "[*********************100%***********************]  1 of 1 completed\n",
            "[*********************100%***********************]  1 of 1 completed\n",
            "[*********************100%***********************]  1 of 1 completed\n"
          ]
        },
        {
          "output_type": "stream",
          "name": "stdout",
          "text": [
            "start\n",
            "Fetching data for FOX...\n",
            "start\n",
            "Fetching data for BEN...\n",
            "start\n",
            "Fetching data for FCX...\n"
          ]
        },
        {
          "output_type": "stream",
          "name": "stderr",
          "text": [
            "[*********************100%***********************]  1 of 1 completed\n",
            "[*********************100%***********************]  1 of 1 completed\n",
            "[*********************100%***********************]  1 of 1 completed\n"
          ]
        },
        {
          "output_type": "stream",
          "name": "stdout",
          "text": [
            "start\n",
            "Fetching data for GRMN...\n",
            "start\n",
            "Fetching data for IT...\n",
            "start\n",
            "Fetching data for GE...\n"
          ]
        },
        {
          "output_type": "stream",
          "name": "stderr",
          "text": [
            "[*********************100%***********************]  1 of 1 completed\n",
            "[*********************100%***********************]  1 of 1 completed\n",
            "[*********************100%***********************]  1 of 1 completed\n"
          ]
        },
        {
          "output_type": "stream",
          "name": "stdout",
          "text": [
            "start\n",
            "Fetching data for GEHC...\n",
            "start\n",
            "Fetching data for GEV...\n",
            "start\n",
            "Fetching data for GEN...\n"
          ]
        },
        {
          "output_type": "stream",
          "name": "stderr",
          "text": [
            "[*********************100%***********************]  1 of 1 completed\n",
            "[*********************100%***********************]  1 of 1 completed\n"
          ]
        },
        {
          "output_type": "stream",
          "name": "stdout",
          "text": [
            "start\n",
            "Fetching data for GNRC...\n",
            "start\n",
            "Fetching data for GD...\n"
          ]
        },
        {
          "output_type": "stream",
          "name": "stderr",
          "text": [
            "[*********************100%***********************]  1 of 1 completed\n",
            "[*********************100%***********************]  1 of 1 completed\n"
          ]
        },
        {
          "output_type": "stream",
          "name": "stdout",
          "text": [
            "start\n",
            "Fetching data for GIS...\n",
            "start\n",
            "Fetching data for GM...\n"
          ]
        },
        {
          "output_type": "stream",
          "name": "stderr",
          "text": [
            "[*********************100%***********************]  1 of 1 completed\n",
            "[*********************100%***********************]  1 of 1 completed\n"
          ]
        },
        {
          "output_type": "stream",
          "name": "stdout",
          "text": [
            "start\n",
            "Fetching data for GPC...\n",
            "start\n",
            "Fetching data for GILD...\n"
          ]
        },
        {
          "output_type": "stream",
          "name": "stderr",
          "text": [
            "[*********************100%***********************]  1 of 1 completed\n",
            "[*********************100%***********************]  1 of 1 completed\n"
          ]
        },
        {
          "output_type": "stream",
          "name": "stdout",
          "text": [
            "start\n",
            "Fetching data for GPN...\n",
            "start\n",
            "Fetching data for GL...\n"
          ]
        },
        {
          "output_type": "stream",
          "name": "stderr",
          "text": [
            "[*********************100%***********************]  1 of 1 completed\n",
            "[*********************100%***********************]  1 of 1 completed\n"
          ]
        },
        {
          "output_type": "stream",
          "name": "stdout",
          "text": [
            "start\n",
            "Fetching data for GDDY...\n",
            "start\n",
            "Fetching data for GS...\n"
          ]
        },
        {
          "output_type": "stream",
          "name": "stderr",
          "text": [
            "[*********************100%***********************]  1 of 1 completed\n",
            "[*********************100%***********************]  1 of 1 completed\n"
          ]
        },
        {
          "output_type": "stream",
          "name": "stdout",
          "text": [
            "start\n",
            "Fetching data for HAL...\n",
            "start\n",
            "Fetching data for HIG...\n"
          ]
        },
        {
          "output_type": "stream",
          "name": "stderr",
          "text": [
            "[*********************100%***********************]  1 of 1 completed\n",
            "[*********************100%***********************]  1 of 1 completed\n"
          ]
        },
        {
          "output_type": "stream",
          "name": "stdout",
          "text": [
            "start\n",
            "Fetching data for HAS...\n",
            "start\n",
            "Fetching data for HCA...\n"
          ]
        },
        {
          "output_type": "stream",
          "name": "stderr",
          "text": [
            "[*********************100%***********************]  1 of 1 completed\n",
            "[*********************100%***********************]  1 of 1 completed\n"
          ]
        },
        {
          "output_type": "stream",
          "name": "stdout",
          "text": [
            "start\n",
            "Fetching data for DOC...\n",
            "start\n",
            "Fetching data for HSIC...\n"
          ]
        },
        {
          "output_type": "stream",
          "name": "stderr",
          "text": [
            "[*********************100%***********************]  1 of 1 completed\n",
            "[*********************100%***********************]  1 of 1 completed\n"
          ]
        },
        {
          "output_type": "stream",
          "name": "stdout",
          "text": [
            "start\n",
            "Fetching data for HSY...\n",
            "start\n",
            "Fetching data for HES...\n"
          ]
        },
        {
          "output_type": "stream",
          "name": "stderr",
          "text": [
            "[*********************100%***********************]  1 of 1 completed\n",
            "[*********************100%***********************]  1 of 1 completed\n"
          ]
        },
        {
          "output_type": "stream",
          "name": "stdout",
          "text": [
            "start\n",
            "Fetching data for HPE...\n",
            "start\n",
            "Fetching data for HLT...\n"
          ]
        },
        {
          "output_type": "stream",
          "name": "stderr",
          "text": [
            "[*********************100%***********************]  1 of 1 completed\n",
            "[*********************100%***********************]  1 of 1 completed\n"
          ]
        },
        {
          "output_type": "stream",
          "name": "stdout",
          "text": [
            "start\n",
            "Fetching data for HOLX...\n",
            "start\n",
            "Fetching data for HD...\n"
          ]
        },
        {
          "output_type": "stream",
          "name": "stderr",
          "text": [
            "[*********************100%***********************]  1 of 1 completed\n",
            "[*********************100%***********************]  1 of 1 completed\n"
          ]
        },
        {
          "output_type": "stream",
          "name": "stdout",
          "text": [
            "start\n",
            "Fetching data for HON...\n",
            "start\n",
            "Fetching data for HRL...\n"
          ]
        },
        {
          "output_type": "stream",
          "name": "stderr",
          "text": [
            "[*********************100%***********************]  1 of 1 completed\n",
            "[*********************100%***********************]  1 of 1 completed\n"
          ]
        },
        {
          "output_type": "stream",
          "name": "stdout",
          "text": [
            "start\n",
            "Fetching data for HST...\n",
            "start\n",
            "Fetching data for HWM...\n"
          ]
        },
        {
          "output_type": "stream",
          "name": "stderr",
          "text": [
            "[*********************100%***********************]  1 of 1 completed\n",
            "[*********************100%***********************]  1 of 1 completed\n"
          ]
        },
        {
          "output_type": "stream",
          "name": "stdout",
          "text": [
            "start\n",
            "Fetching data for HPQ...\n",
            "start\n",
            "Fetching data for HUBB...\n"
          ]
        },
        {
          "output_type": "stream",
          "name": "stderr",
          "text": [
            "[*********************100%***********************]  1 of 1 completed\n",
            "[*********************100%***********************]  1 of 1 completed\n"
          ]
        },
        {
          "output_type": "stream",
          "name": "stdout",
          "text": [
            "start\n",
            "Fetching data for HUM...\n",
            "start\n",
            "Fetching data for HBAN...\n"
          ]
        },
        {
          "output_type": "stream",
          "name": "stderr",
          "text": [
            "[*********************100%***********************]  1 of 1 completed\n",
            "[*********************100%***********************]  1 of 1 completed\n"
          ]
        },
        {
          "output_type": "stream",
          "name": "stdout",
          "text": [
            "start\n",
            "Fetching data for HII...\n",
            "start\n",
            "Fetching data for IBM...\n"
          ]
        },
        {
          "output_type": "stream",
          "name": "stderr",
          "text": [
            "[*********************100%***********************]  1 of 1 completed\n",
            "[*********************100%***********************]  1 of 1 completed\n",
            "[*********************100%***********************]  1 of 1 completed\n"
          ]
        },
        {
          "output_type": "stream",
          "name": "stdout",
          "text": [
            "start\n",
            "Fetching data for IEX...\n",
            "start\n",
            "Fetching data for IDXX...\n",
            "start\n",
            "Fetching data for ITW...\n"
          ]
        },
        {
          "output_type": "stream",
          "name": "stderr",
          "text": [
            "[*********************100%***********************]  1 of 1 completed\n",
            "[*********************100%***********************]  1 of 1 completed\n",
            "[*********************100%***********************]  1 of 1 completed"
          ]
        },
        {
          "output_type": "stream",
          "name": "stdout",
          "text": [
            "start\n",
            "Fetching data for INCY...\n",
            "start\n",
            "Fetching data for IR...\n"
          ]
        },
        {
          "output_type": "stream",
          "name": "stderr",
          "text": [
            "\n",
            "\r[*********************100%***********************]  1 of 1 completed\n"
          ]
        },
        {
          "output_type": "stream",
          "name": "stdout",
          "text": [
            "start\n",
            "Fetching data for PODD...\n",
            "start\n",
            "Fetching data for INTC...\n"
          ]
        },
        {
          "output_type": "stream",
          "name": "stderr",
          "text": [
            "[*********************100%***********************]  1 of 1 completed\n",
            "[*********************100%***********************]  1 of 1 completed\n"
          ]
        },
        {
          "output_type": "stream",
          "name": "stdout",
          "text": [
            "start\n",
            "Fetching data for ICE...\n",
            "start\n",
            "Fetching data for IFF...\n"
          ]
        },
        {
          "output_type": "stream",
          "name": "stderr",
          "text": [
            "[*********************100%***********************]  1 of 1 completed\n",
            "[*********************100%***********************]  1 of 1 completed\n"
          ]
        },
        {
          "output_type": "stream",
          "name": "stdout",
          "text": [
            "start\n",
            "Fetching data for IP...\n",
            "start\n",
            "Fetching data for IPG...\n"
          ]
        },
        {
          "output_type": "stream",
          "name": "stderr",
          "text": [
            "[*********************100%***********************]  1 of 1 completed\n",
            "[*********************100%***********************]  1 of 1 completed\n",
            "[*********************100%***********************]  1 of 1 completed"
          ]
        },
        {
          "output_type": "stream",
          "name": "stdout",
          "text": [
            "start\n",
            "Fetching data for INTU...\n",
            "start\n",
            "Fetching data for ISRG...\n"
          ]
        },
        {
          "output_type": "stream",
          "name": "stderr",
          "text": [
            "\n",
            "[*********************100%***********************]  1 of 1 completed\n"
          ]
        },
        {
          "output_type": "stream",
          "name": "stdout",
          "text": [
            "start\n",
            "Fetching data for IVZ...\n",
            "start\n",
            "Fetching data for INVH...\n"
          ]
        },
        {
          "output_type": "stream",
          "name": "stderr",
          "text": [
            "[*********************100%***********************]  1 of 1 completed\n",
            "[*********************100%***********************]  1 of 1 completed\n",
            "[*********************100%***********************]  1 of 1 completed"
          ]
        },
        {
          "output_type": "stream",
          "name": "stdout",
          "text": [
            "start\n",
            "Fetching data for IQV...\n",
            "start\n",
            "Fetching data for IRM...\n"
          ]
        },
        {
          "output_type": "stream",
          "name": "stderr",
          "text": [
            "\n",
            "[*********************100%***********************]  1 of 1 completed\n"
          ]
        },
        {
          "output_type": "stream",
          "name": "stdout",
          "text": [
            "start\n",
            "Fetching data for JBHT...\n",
            "start\n",
            "Fetching data for JBL...\n"
          ]
        },
        {
          "output_type": "stream",
          "name": "stderr",
          "text": [
            "[*********************100%***********************]  1 of 1 completed\n",
            "[*********************100%***********************]  1 of 1 completed\n"
          ]
        },
        {
          "output_type": "stream",
          "name": "stdout",
          "text": [
            "start\n",
            "Fetching data for JKHY...\n",
            "start\n",
            "Fetching data for J...\n"
          ]
        },
        {
          "output_type": "stream",
          "name": "stderr",
          "text": [
            "[*********************100%***********************]  1 of 1 completed\n",
            "[*********************100%***********************]  1 of 1 completed\n"
          ]
        },
        {
          "output_type": "stream",
          "name": "stdout",
          "text": [
            "start\n",
            "Fetching data for JNJ...\n",
            "start\n",
            "Fetching data for JCI...\n"
          ]
        },
        {
          "output_type": "stream",
          "name": "stderr",
          "text": [
            "[*********************100%***********************]  1 of 1 completed\n",
            "[*********************100%***********************]  1 of 1 completed\n"
          ]
        },
        {
          "output_type": "stream",
          "name": "stdout",
          "text": [
            "start\n",
            "Fetching data for JPM...\n",
            "start\n",
            "Fetching data for JNPR...\n"
          ]
        },
        {
          "output_type": "stream",
          "name": "stderr",
          "text": [
            "[*********************100%***********************]  1 of 1 completed\n",
            "[*********************100%***********************]  1 of 1 completed"
          ]
        },
        {
          "output_type": "stream",
          "name": "stdout",
          "text": [
            "start\n",
            "Fetching data for K...\n"
          ]
        },
        {
          "output_type": "stream",
          "name": "stderr",
          "text": [
            "\n",
            "[*********************100%***********************]  1 of 1 completed\n",
            "[*********************100%***********************]  1 of 1 completed\n"
          ]
        },
        {
          "output_type": "stream",
          "name": "stdout",
          "text": [
            "start\n",
            "Fetching data for KVUE...\n",
            "start\n",
            "Fetching data for KDP...\n",
            "start\n",
            "Fetching data for KEY...\n"
          ]
        },
        {
          "output_type": "stream",
          "name": "stderr",
          "text": [
            "[*********************100%***********************]  1 of 1 completed\n",
            "[*********************100%***********************]  1 of 1 completed\n",
            "[*********************100%***********************]  1 of 1 completed"
          ]
        },
        {
          "output_type": "stream",
          "name": "stdout",
          "text": [
            "start\n",
            "Fetching data for KEYS...\n",
            "start\n",
            "Fetching data for KMB...\n"
          ]
        },
        {
          "output_type": "stream",
          "name": "stderr",
          "text": [
            "\n",
            "[*********************100%***********************]  1 of 1 completed\n"
          ]
        },
        {
          "output_type": "stream",
          "name": "stdout",
          "text": [
            "start\n",
            "Fetching data for KIM...\n",
            "start\n",
            "Fetching data for KMI...\n"
          ]
        },
        {
          "output_type": "stream",
          "name": "stderr",
          "text": [
            "[*********************100%***********************]  1 of 1 completed\n",
            "[*********************100%***********************]  1 of 1 completed\n"
          ]
        },
        {
          "output_type": "stream",
          "name": "stdout",
          "text": [
            "start\n",
            "Fetching data for KKR...\n",
            "start\n",
            "Fetching data for KLAC...\n"
          ]
        },
        {
          "output_type": "stream",
          "name": "stderr",
          "text": [
            "[*********************100%***********************]  1 of 1 completed\n",
            "[*********************100%***********************]  1 of 1 completed\n"
          ]
        },
        {
          "output_type": "stream",
          "name": "stdout",
          "text": [
            "start\n",
            "Fetching data for KHC...\n",
            "start\n",
            "Fetching data for KR...\n"
          ]
        },
        {
          "output_type": "stream",
          "name": "stderr",
          "text": [
            "[*********************100%***********************]  1 of 1 completed\n",
            "[*********************100%***********************]  1 of 1 completed\n"
          ]
        },
        {
          "output_type": "stream",
          "name": "stdout",
          "text": [
            "start\n",
            "Fetching data for LHX...\n",
            "start\n",
            "Fetching data for LH...\n"
          ]
        },
        {
          "output_type": "stream",
          "name": "stderr",
          "text": [
            "[*********************100%***********************]  1 of 1 completed\n",
            "[*********************100%***********************]  1 of 1 completed\n",
            "[*********************100%***********************]  1 of 1 completed\n"
          ]
        },
        {
          "output_type": "stream",
          "name": "stdout",
          "text": [
            "start\n",
            "Fetching data for LRCX...\n",
            "start\n",
            "Fetching data for LW...\n",
            "start\n",
            "Fetching data for LVS...\n"
          ]
        },
        {
          "output_type": "stream",
          "name": "stderr",
          "text": [
            "[*********************100%***********************]  1 of 1 completed\n",
            "[*********************100%***********************]  1 of 1 completed\n"
          ]
        },
        {
          "output_type": "stream",
          "name": "stdout",
          "text": [
            "start\n",
            "Fetching data for LDOS...\n",
            "start\n",
            "Fetching data for LEN...\n"
          ]
        },
        {
          "output_type": "stream",
          "name": "stderr",
          "text": [
            "[*********************100%***********************]  1 of 1 completed\n",
            "[*********************100%***********************]  1 of 1 completed\n"
          ]
        },
        {
          "output_type": "stream",
          "name": "stdout",
          "text": [
            "start\n",
            "Fetching data for LII...\n",
            "start\n",
            "Fetching data for LLY...\n"
          ]
        },
        {
          "output_type": "stream",
          "name": "stderr",
          "text": [
            "[*********************100%***********************]  1 of 1 completed\n",
            "[*********************100%***********************]  1 of 1 completed\n",
            "[*********************100%***********************]  1 of 1 completed\n"
          ]
        },
        {
          "output_type": "stream",
          "name": "stdout",
          "text": [
            "start\n",
            "Fetching data for LIN...\n",
            "start\n",
            "Fetching data for LYV...\n",
            "start\n",
            "Fetching data for LKQ...\n"
          ]
        },
        {
          "output_type": "stream",
          "name": "stderr",
          "text": [
            "[*********************100%***********************]  1 of 1 completed\n",
            "[*********************100%***********************]  1 of 1 completed\n"
          ]
        },
        {
          "output_type": "stream",
          "name": "stdout",
          "text": [
            "start\n",
            "Fetching data for LMT...\n",
            "start\n",
            "Fetching data for L...\n"
          ]
        },
        {
          "output_type": "stream",
          "name": "stderr",
          "text": [
            "[*********************100%***********************]  1 of 1 completed\n",
            "[*********************100%***********************]  1 of 1 completed\n"
          ]
        },
        {
          "output_type": "stream",
          "name": "stdout",
          "text": [
            "start\n",
            "Fetching data for LOW...\n",
            "start\n",
            "Fetching data for LULU...\n"
          ]
        },
        {
          "output_type": "stream",
          "name": "stderr",
          "text": [
            "[*********************100%***********************]  1 of 1 completed\n",
            "[*********************100%***********************]  1 of 1 completed\n"
          ]
        },
        {
          "output_type": "stream",
          "name": "stdout",
          "text": [
            "start\n",
            "Fetching data for LYB...\n",
            "start\n",
            "Fetching data for MTB...\n"
          ]
        },
        {
          "output_type": "stream",
          "name": "stderr",
          "text": [
            "[*********************100%***********************]  1 of 1 completed\n",
            "[*********************100%***********************]  1 of 1 completed\n",
            "[*********************100%***********************]  1 of 1 completed"
          ]
        },
        {
          "output_type": "stream",
          "name": "stdout",
          "text": [
            "start\n",
            "Fetching data for MPC...\n",
            "start\n",
            "Fetching data for MKTX...\n"
          ]
        },
        {
          "output_type": "stream",
          "name": "stderr",
          "text": [
            "\n",
            "[*********************100%***********************]  1 of 1 completed\n"
          ]
        },
        {
          "output_type": "stream",
          "name": "stdout",
          "text": [
            "start\n",
            "Fetching data for MAR...\n",
            "start\n",
            "Fetching data for MMC...\n"
          ]
        },
        {
          "output_type": "stream",
          "name": "stderr",
          "text": [
            "[*********************100%***********************]  1 of 1 completed\n",
            "[*********************100%***********************]  1 of 1 completed\n"
          ]
        },
        {
          "output_type": "stream",
          "name": "stdout",
          "text": [
            "start\n",
            "Fetching data for MLM...\n",
            "start\n",
            "Fetching data for MAS...\n"
          ]
        },
        {
          "output_type": "stream",
          "name": "stderr",
          "text": [
            "[*********************100%***********************]  1 of 1 completed\n",
            "[*********************100%***********************]  1 of 1 completed\n"
          ]
        },
        {
          "output_type": "stream",
          "name": "stdout",
          "text": [
            "start\n",
            "Fetching data for MA...\n",
            "start\n",
            "Fetching data for MTCH...\n"
          ]
        },
        {
          "output_type": "stream",
          "name": "stderr",
          "text": [
            "[*********************100%***********************]  1 of 1 completed\n",
            "[*********************100%***********************]  1 of 1 completed\n"
          ]
        },
        {
          "output_type": "stream",
          "name": "stdout",
          "text": [
            "start\n",
            "Fetching data for MKC...\n",
            "start\n",
            "Fetching data for MCD...\n"
          ]
        },
        {
          "output_type": "stream",
          "name": "stderr",
          "text": [
            "[*********************100%***********************]  1 of 1 completed\n",
            "[*********************100%***********************]  1 of 1 completed\n"
          ]
        },
        {
          "output_type": "stream",
          "name": "stdout",
          "text": [
            "start\n",
            "Fetching data for MCK...\n",
            "start\n",
            "Fetching data for MDT...\n"
          ]
        },
        {
          "output_type": "stream",
          "name": "stderr",
          "text": [
            "[*********************100%***********************]  1 of 1 completed\n",
            "[*********************100%***********************]  1 of 1 completed\n"
          ]
        },
        {
          "output_type": "stream",
          "name": "stdout",
          "text": [
            "start\n",
            "Fetching data for MRK...\n",
            "start\n",
            "Fetching data for META...\n"
          ]
        },
        {
          "output_type": "stream",
          "name": "stderr",
          "text": [
            "[*********************100%***********************]  1 of 1 completed\n",
            "[*********************100%***********************]  1 of 1 completed\n",
            "[*********************100%***********************]  1 of 1 completed\n"
          ]
        },
        {
          "output_type": "stream",
          "name": "stdout",
          "text": [
            "start\n",
            "Fetching data for MET...\n",
            "start\n",
            "Fetching data for MTD...\n",
            "start\n",
            "Fetching data for MGM...\n"
          ]
        },
        {
          "output_type": "stream",
          "name": "stderr",
          "text": [
            "[*********************100%***********************]  1 of 1 completed\n",
            "[*********************100%***********************]  1 of 1 completed\n"
          ]
        },
        {
          "output_type": "stream",
          "name": "stdout",
          "text": [
            "start\n",
            "Fetching data for MCHP...\n",
            "start\n",
            "Fetching data for MU...\n"
          ]
        },
        {
          "output_type": "stream",
          "name": "stderr",
          "text": [
            "[*********************100%***********************]  1 of 1 completed\n",
            "[*********************100%***********************]  1 of 1 completed\n"
          ]
        },
        {
          "output_type": "stream",
          "name": "stdout",
          "text": [
            "start\n",
            "Fetching data for MSFT...\n",
            "start\n",
            "Fetching data for MAA...\n"
          ]
        },
        {
          "output_type": "stream",
          "name": "stderr",
          "text": [
            "[*********************100%***********************]  1 of 1 completed\n",
            "[*********************100%***********************]  1 of 1 completed\n",
            "[*********************100%***********************]  1 of 1 completed\n"
          ]
        },
        {
          "output_type": "stream",
          "name": "stdout",
          "text": [
            "start\n",
            "Fetching data for MRNA...\n",
            "start\n",
            "Fetching data for MHK...\n",
            "start\n",
            "Fetching data for MOH...\n"
          ]
        },
        {
          "output_type": "stream",
          "name": "stderr",
          "text": [
            "[*********************100%***********************]  1 of 1 completed\n",
            "[*********************100%***********************]  1 of 1 completed\n"
          ]
        },
        {
          "output_type": "stream",
          "name": "stdout",
          "text": [
            "start\n",
            "Fetching data for TAP...\n",
            "start\n",
            "Fetching data for MDLZ...\n"
          ]
        },
        {
          "output_type": "stream",
          "name": "stderr",
          "text": [
            "[*********************100%***********************]  1 of 1 completed\n",
            "[*********************100%***********************]  1 of 1 completed\n",
            "[*********************100%***********************]  1 of 1 completed\n"
          ]
        },
        {
          "output_type": "stream",
          "name": "stdout",
          "text": [
            "start\n",
            "Fetching data for MPWR...\n",
            "start\n",
            "Fetching data for MNST...\n",
            "start\n",
            "Fetching data for MCO...\n"
          ]
        },
        {
          "output_type": "stream",
          "name": "stderr",
          "text": [
            "[*********************100%***********************]  1 of 1 completed\n",
            "[*********************100%***********************]  1 of 1 completed\n"
          ]
        },
        {
          "output_type": "stream",
          "name": "stdout",
          "text": [
            "start\n",
            "Fetching data for MS...\n",
            "start\n",
            "Fetching data for MOS...\n"
          ]
        },
        {
          "output_type": "stream",
          "name": "stderr",
          "text": [
            "[*********************100%***********************]  1 of 1 completed\n",
            "[*********************100%***********************]  1 of 1 completed\n"
          ]
        },
        {
          "output_type": "stream",
          "name": "stdout",
          "text": [
            "start\n",
            "Fetching data for MSI...\n",
            "start\n",
            "Fetching data for MSCI...\n"
          ]
        },
        {
          "output_type": "stream",
          "name": "stderr",
          "text": [
            "[*********************100%***********************]  1 of 1 completed\n",
            "[*********************100%***********************]  1 of 1 completed\n",
            "[*********************100%***********************]  1 of 1 completed"
          ]
        },
        {
          "output_type": "stream",
          "name": "stdout",
          "text": [
            "start\n",
            "Fetching data for NDAQ...\n",
            "start\n",
            "Fetching data for NTAP...\n",
            "start\n",
            "Fetching data for NFLX...\n"
          ]
        },
        {
          "output_type": "stream",
          "name": "stderr",
          "text": [
            "\n",
            "[*********************100%***********************]  1 of 1 completed\n",
            "[*********************100%***********************]  1 of 1 completed\n"
          ]
        },
        {
          "output_type": "stream",
          "name": "stdout",
          "text": [
            "start\n",
            "Fetching data for NEM...\n",
            "start\n",
            "Fetching data for NWSA...\n"
          ]
        },
        {
          "output_type": "stream",
          "name": "stderr",
          "text": [
            "[*********************100%***********************]  1 of 1 completed\n",
            "[*********************100%***********************]  1 of 1 completed\n"
          ]
        },
        {
          "output_type": "stream",
          "name": "stdout",
          "text": [
            "start\n",
            "Fetching data for NWS...\n",
            "start\n",
            "Fetching data for NEE...\n"
          ]
        },
        {
          "output_type": "stream",
          "name": "stderr",
          "text": [
            "[*********************100%***********************]  1 of 1 completed\n",
            "[*********************100%***********************]  1 of 1 completed\n"
          ]
        },
        {
          "output_type": "stream",
          "name": "stdout",
          "text": [
            "start\n",
            "Fetching data for NKE...\n",
            "start\n",
            "Fetching data for NI...\n"
          ]
        },
        {
          "output_type": "stream",
          "name": "stderr",
          "text": [
            "\r[*********************100%***********************]  1 of 1 completed\n"
          ]
        },
        {
          "output_type": "stream",
          "name": "stdout",
          "text": [
            "start\n",
            "Fetching data for NDSN...\n"
          ]
        },
        {
          "output_type": "stream",
          "name": "stderr",
          "text": [
            "[*********************100%***********************]  1 of 1 completed\n",
            "[*********************100%***********************]  1 of 1 completed\n"
          ]
        },
        {
          "output_type": "stream",
          "name": "stdout",
          "text": [
            "start\n",
            "Fetching data for NSC...\n",
            "start\n",
            "Fetching data for NTRS...\n"
          ]
        },
        {
          "output_type": "stream",
          "name": "stderr",
          "text": [
            "[*********************100%***********************]  1 of 1 completed\n",
            "[*********************100%***********************]  1 of 1 completed\n"
          ]
        },
        {
          "output_type": "stream",
          "name": "stdout",
          "text": [
            "start\n",
            "Fetching data for NOC...\n",
            "start\n",
            "Fetching data for NCLH...\n"
          ]
        },
        {
          "output_type": "stream",
          "name": "stderr",
          "text": [
            "[*********************100%***********************]  1 of 1 completed\n",
            "[*********************100%***********************]  1 of 1 completed\n"
          ]
        },
        {
          "output_type": "stream",
          "name": "stdout",
          "text": [
            "start\n",
            "Fetching data for NRG...\n",
            "start\n",
            "Fetching data for NUE...\n"
          ]
        },
        {
          "output_type": "stream",
          "name": "stderr",
          "text": [
            "[*********************100%***********************]  1 of 1 completed\n",
            "[*********************100%***********************]  1 of 1 completed"
          ]
        },
        {
          "output_type": "stream",
          "name": "stdout",
          "text": [
            "start\n",
            "Fetching data for NVDA...\n"
          ]
        },
        {
          "output_type": "stream",
          "name": "stderr",
          "text": [
            "\n",
            "[*********************100%***********************]  1 of 1 completed"
          ]
        },
        {
          "output_type": "stream",
          "name": "stdout",
          "text": [
            "start\n",
            "Fetching data for NVR...\n",
            "start\n",
            "Fetching data for NXPI...\n"
          ]
        },
        {
          "output_type": "stream",
          "name": "stderr",
          "text": [
            "\n",
            "[*********************100%***********************]  1 of 1 completed\n",
            "[*********************100%***********************]  1 of 1 completed\n"
          ]
        },
        {
          "output_type": "stream",
          "name": "stdout",
          "text": [
            "start\n",
            "Fetching data for ORLY...\n",
            "start\n",
            "Fetching data for OXY...\n"
          ]
        },
        {
          "output_type": "stream",
          "name": "stderr",
          "text": [
            "[*********************100%***********************]  1 of 1 completed\n",
            "[*********************100%***********************]  1 of 1 completed\n"
          ]
        },
        {
          "output_type": "stream",
          "name": "stdout",
          "text": [
            "start\n",
            "Fetching data for ODFL...\n",
            "start\n",
            "Fetching data for OMC...\n"
          ]
        },
        {
          "output_type": "stream",
          "name": "stderr",
          "text": [
            "[*********************100%***********************]  1 of 1 completed\n",
            "[*********************100%***********************]  1 of 1 completed\n"
          ]
        },
        {
          "output_type": "stream",
          "name": "stdout",
          "text": [
            "start\n",
            "Fetching data for ON...\n",
            "start\n",
            "Fetching data for OKE...\n"
          ]
        },
        {
          "output_type": "stream",
          "name": "stderr",
          "text": [
            "[*********************100%***********************]  1 of 1 completed\n",
            "[*********************100%***********************]  1 of 1 completed\n"
          ]
        },
        {
          "output_type": "stream",
          "name": "stdout",
          "text": [
            "start\n",
            "Fetching data for ORCL...\n",
            "start\n",
            "Fetching data for OTIS...\n"
          ]
        },
        {
          "output_type": "stream",
          "name": "stderr",
          "text": [
            "[*********************100%***********************]  1 of 1 completed\n",
            "[*********************100%***********************]  1 of 1 completed\n"
          ]
        },
        {
          "output_type": "stream",
          "name": "stdout",
          "text": [
            "start\n",
            "Fetching data for PCAR...\n",
            "start\n",
            "Fetching data for PKG...\n"
          ]
        },
        {
          "output_type": "stream",
          "name": "stderr",
          "text": [
            "[*********************100%***********************]  1 of 1 completed\n",
            "[*********************100%***********************]  1 of 1 completed\n",
            "[*********************100%***********************]  1 of 1 completed\n"
          ]
        },
        {
          "output_type": "stream",
          "name": "stdout",
          "text": [
            "start\n",
            "Fetching data for PLTR...\n",
            "start\n",
            "Fetching data for PANW...\n",
            "start\n",
            "Fetching data for PARA...\n"
          ]
        },
        {
          "output_type": "stream",
          "name": "stderr",
          "text": [
            "[*********************100%***********************]  1 of 1 completed\n",
            "[*********************100%***********************]  1 of 1 completed\n"
          ]
        },
        {
          "output_type": "stream",
          "name": "stdout",
          "text": [
            "start\n",
            "Fetching data for PH...\n",
            "start\n",
            "Fetching data for PAYX...\n"
          ]
        },
        {
          "output_type": "stream",
          "name": "stderr",
          "text": [
            "[*********************100%***********************]  1 of 1 completed\n",
            "[*********************100%***********************]  1 of 1 completed\n",
            "[*********************100%***********************]  1 of 1 completed\n"
          ]
        },
        {
          "output_type": "stream",
          "name": "stdout",
          "text": [
            "start\n",
            "Fetching data for PAYC...\n",
            "start\n",
            "Fetching data for PYPL...\n",
            "start\n",
            "Fetching data for PNR...\n"
          ]
        },
        {
          "output_type": "stream",
          "name": "stderr",
          "text": [
            "[*********************100%***********************]  1 of 1 completed\n",
            "[*********************100%***********************]  1 of 1 completed\n"
          ]
        },
        {
          "output_type": "stream",
          "name": "stdout",
          "text": [
            "start\n",
            "Fetching data for PEP...\n",
            "start\n",
            "Fetching data for PFE...\n"
          ]
        },
        {
          "output_type": "stream",
          "name": "stderr",
          "text": [
            "[*********************100%***********************]  1 of 1 completed\n",
            "[*********************100%***********************]  1 of 1 completed\n"
          ]
        },
        {
          "output_type": "stream",
          "name": "stdout",
          "text": [
            "start\n",
            "Fetching data for PCG...\n",
            "start\n",
            "Fetching data for PM...\n"
          ]
        },
        {
          "output_type": "stream",
          "name": "stderr",
          "text": [
            "[*********************100%***********************]  1 of 1 completed\n",
            "[*********************100%***********************]  1 of 1 completed\n"
          ]
        },
        {
          "output_type": "stream",
          "name": "stdout",
          "text": [
            "start\n",
            "Fetching data for PSX...\n",
            "start\n",
            "Fetching data for PNW...\n"
          ]
        },
        {
          "output_type": "stream",
          "name": "stderr",
          "text": [
            "[*********************100%***********************]  1 of 1 completed\n",
            "[*********************100%***********************]  1 of 1 completed\n"
          ]
        },
        {
          "output_type": "stream",
          "name": "stdout",
          "text": [
            "start\n",
            "Fetching data for PNC...\n",
            "start\n",
            "Fetching data for POOL...\n"
          ]
        },
        {
          "output_type": "stream",
          "name": "stderr",
          "text": [
            "[*********************100%***********************]  1 of 1 completed\n",
            "[*********************100%***********************]  1 of 1 completed\n"
          ]
        },
        {
          "output_type": "stream",
          "name": "stdout",
          "text": [
            "start\n",
            "Fetching data for PPG...\n",
            "start\n",
            "Fetching data for PPL...\n"
          ]
        },
        {
          "output_type": "stream",
          "name": "stderr",
          "text": [
            "[*********************100%***********************]  1 of 1 completed\n",
            "[*********************100%***********************]  1 of 1 completed\n"
          ]
        },
        {
          "output_type": "stream",
          "name": "stdout",
          "text": [
            "start\n",
            "Fetching data for PFG...\n",
            "start\n",
            "Fetching data for PG...\n"
          ]
        },
        {
          "output_type": "stream",
          "name": "stderr",
          "text": [
            "[*********************100%***********************]  1 of 1 completed\n",
            "[*********************100%***********************]  1 of 1 completed\n"
          ]
        },
        {
          "output_type": "stream",
          "name": "stdout",
          "text": [
            "start\n",
            "Fetching data for PGR...\n",
            "start\n",
            "Fetching data for PLD...\n"
          ]
        },
        {
          "output_type": "stream",
          "name": "stderr",
          "text": [
            "[*********************100%***********************]  1 of 1 completed\n",
            "[*********************100%***********************]  1 of 1 completed\n"
          ]
        },
        {
          "output_type": "stream",
          "name": "stdout",
          "text": [
            "start\n",
            "Fetching data for PRU...\n",
            "start\n",
            "Fetching data for PEG...\n"
          ]
        },
        {
          "output_type": "stream",
          "name": "stderr",
          "text": [
            "[*********************100%***********************]  1 of 1 completed\n",
            "[*********************100%***********************]  1 of 1 completed\n",
            "[*********************100%***********************]  1 of 1 completed"
          ]
        },
        {
          "output_type": "stream",
          "name": "stdout",
          "text": [
            "start\n",
            "Fetching data for PTC...\n",
            "start\n",
            "Fetching data for PSA...\n",
            "start\n",
            "Fetching data for PHM...\n"
          ]
        },
        {
          "output_type": "stream",
          "name": "stderr",
          "text": [
            "\n",
            "[*********************100%***********************]  1 of 1 completed\n",
            "[*********************100%***********************]  1 of 1 completed\n",
            "[*********************100%***********************]  1 of 1 completed\n"
          ]
        },
        {
          "output_type": "stream",
          "name": "stdout",
          "text": [
            "start\n",
            "Fetching data for PWR...\n",
            "start\n",
            "Fetching data for QCOM...\n",
            "start\n",
            "Fetching data for DGX...\n"
          ]
        },
        {
          "output_type": "stream",
          "name": "stderr",
          "text": [
            "[*********************100%***********************]  1 of 1 completed\n",
            "[*********************100%***********************]  1 of 1 completed\n"
          ]
        },
        {
          "output_type": "stream",
          "name": "stdout",
          "text": [
            "start\n",
            "Fetching data for RL...\n",
            "start\n",
            "Fetching data for RJF...\n"
          ]
        },
        {
          "output_type": "stream",
          "name": "stderr",
          "text": [
            "[*********************100%***********************]  1 of 1 completed\n",
            "[*********************100%***********************]  1 of 1 completed\n"
          ]
        },
        {
          "output_type": "stream",
          "name": "stdout",
          "text": [
            "start\n",
            "Fetching data for RTX...\n",
            "start\n",
            "Fetching data for O...\n"
          ]
        },
        {
          "output_type": "stream",
          "name": "stderr",
          "text": [
            "[*********************100%***********************]  1 of 1 completed\n",
            "[*********************100%***********************]  1 of 1 completed\n",
            "[*********************100%***********************]  1 of 1 completed"
          ]
        },
        {
          "output_type": "stream",
          "name": "stdout",
          "text": [
            "start\n",
            "Fetching data for REG...\n",
            "start\n",
            "Fetching data for REGN...\n"
          ]
        },
        {
          "output_type": "stream",
          "name": "stderr",
          "text": [
            "\n",
            "[*********************100%***********************]  1 of 1 completed\n"
          ]
        },
        {
          "output_type": "stream",
          "name": "stdout",
          "text": [
            "start\n",
            "Fetching data for RF...\n",
            "start\n",
            "Fetching data for RSG...\n"
          ]
        },
        {
          "output_type": "stream",
          "name": "stderr",
          "text": [
            "[*********************100%***********************]  1 of 1 completed\n",
            "[*********************100%***********************]  1 of 1 completed\n"
          ]
        },
        {
          "output_type": "stream",
          "name": "stdout",
          "text": [
            "start\n",
            "Fetching data for RMD...\n",
            "start\n",
            "Fetching data for RVTY...\n"
          ]
        },
        {
          "output_type": "stream",
          "name": "stderr",
          "text": [
            "[*********************100%***********************]  1 of 1 completed\n",
            "[*********************100%***********************]  1 of 1 completed\n"
          ]
        },
        {
          "output_type": "stream",
          "name": "stdout",
          "text": [
            "start\n",
            "Fetching data for ROK...\n",
            "start\n",
            "Fetching data for ROL...\n"
          ]
        },
        {
          "output_type": "stream",
          "name": "stderr",
          "text": [
            "[*********************100%***********************]  1 of 1 completed\n",
            "[*********************100%***********************]  1 of 1 completed\n"
          ]
        },
        {
          "output_type": "stream",
          "name": "stdout",
          "text": [
            "start\n",
            "Fetching data for ROP...\n",
            "start\n",
            "Fetching data for ROST...\n"
          ]
        },
        {
          "output_type": "stream",
          "name": "stderr",
          "text": [
            "[*********************100%***********************]  1 of 1 completed\n",
            "[*********************100%***********************]  1 of 1 completed\n"
          ]
        },
        {
          "output_type": "stream",
          "name": "stdout",
          "text": [
            "start\n",
            "Fetching data for RCL...\n",
            "start\n",
            "Fetching data for SPGI...\n"
          ]
        },
        {
          "output_type": "stream",
          "name": "stderr",
          "text": [
            "[*********************100%***********************]  1 of 1 completed\n",
            "[*********************100%***********************]  1 of 1 completed\n",
            "[*********************100%***********************]  1 of 1 completed\n"
          ]
        },
        {
          "output_type": "stream",
          "name": "stdout",
          "text": [
            "start\n",
            "Fetching data for CRM...\n",
            "start\n",
            "Fetching data for SBAC...\n",
            "start\n",
            "Fetching data for SLB...\n"
          ]
        },
        {
          "output_type": "stream",
          "name": "stderr",
          "text": [
            "[*********************100%***********************]  1 of 1 completed\n",
            "[*********************100%***********************]  1 of 1 completed\n"
          ]
        },
        {
          "output_type": "stream",
          "name": "stdout",
          "text": [
            "start\n",
            "Fetching data for STX...\n",
            "start\n",
            "Fetching data for SRE...\n"
          ]
        },
        {
          "output_type": "stream",
          "name": "stderr",
          "text": [
            "[*********************100%***********************]  1 of 1 completed\n",
            "[*********************100%***********************]  1 of 1 completed\n",
            "[*********************100%***********************]  1 of 1 completed"
          ]
        },
        {
          "output_type": "stream",
          "name": "stdout",
          "text": [
            "start\n",
            "Fetching data for NOW...\n",
            "start\n",
            "Fetching data for SHW...\n"
          ]
        },
        {
          "output_type": "stream",
          "name": "stderr",
          "text": [
            "\n",
            "[*********************100%***********************]  1 of 1 completed\n",
            "[*********************100%***********************]  1 of 1 completed\n"
          ]
        },
        {
          "output_type": "stream",
          "name": "stdout",
          "text": [
            "start\n",
            "Fetching data for SPG...\n",
            "start\n",
            "Fetching data for SWKS...\n",
            "start\n",
            "Fetching data for SJM...\n"
          ]
        },
        {
          "output_type": "stream",
          "name": "stderr",
          "text": [
            "[*********************100%***********************]  1 of 1 completed\n",
            "[*********************100%***********************]  1 of 1 completed\n"
          ]
        },
        {
          "output_type": "stream",
          "name": "stdout",
          "text": [
            "start\n",
            "Fetching data for SW...\n",
            "start\n",
            "Fetching data for SNA...\n"
          ]
        },
        {
          "output_type": "stream",
          "name": "stderr",
          "text": [
            "[*********************100%***********************]  1 of 1 completed\n",
            "[*********************100%***********************]  1 of 1 completed\n",
            "[*********************100%***********************]  1 of 1 completed"
          ]
        },
        {
          "output_type": "stream",
          "name": "stdout",
          "text": [
            "start\n",
            "Fetching data for SOLV...\n",
            "start\n",
            "Fetching data for SO...\n",
            "start\n",
            "Fetching data for LUV...\n"
          ]
        },
        {
          "output_type": "stream",
          "name": "stderr",
          "text": [
            "\n",
            "[*********************100%***********************]  1 of 1 completed\n",
            "[*********************100%***********************]  1 of 1 completed\n"
          ]
        },
        {
          "output_type": "stream",
          "name": "stdout",
          "text": [
            "start\n",
            "Fetching data for SWK...\n",
            "start\n",
            "Fetching data for SBUX...\n"
          ]
        },
        {
          "output_type": "stream",
          "name": "stderr",
          "text": [
            "[*********************100%***********************]  1 of 1 completed\n",
            "[*********************100%***********************]  1 of 1 completed\n"
          ]
        },
        {
          "output_type": "stream",
          "name": "stdout",
          "text": [
            "start\n",
            "Fetching data for STT...\n",
            "start\n",
            "Fetching data for STLD...\n"
          ]
        },
        {
          "output_type": "stream",
          "name": "stderr",
          "text": [
            "[*********************100%***********************]  1 of 1 completed\n",
            "[*********************100%***********************]  1 of 1 completed\n"
          ]
        },
        {
          "output_type": "stream",
          "name": "stdout",
          "text": [
            "start\n",
            "Fetching data for STE...\n",
            "start\n",
            "Fetching data for SYK...\n"
          ]
        },
        {
          "output_type": "stream",
          "name": "stderr",
          "text": [
            "[*********************100%***********************]  1 of 1 completed\n",
            "[*********************100%***********************]  1 of 1 completed\n",
            "[*********************100%***********************]  1 of 1 completed\n"
          ]
        },
        {
          "output_type": "stream",
          "name": "stdout",
          "text": [
            "start\n",
            "Fetching data for SMCI...\n",
            "start\n",
            "Fetching data for SYF...\n",
            "start\n",
            "Fetching data for SNPS...\n"
          ]
        },
        {
          "output_type": "stream",
          "name": "stderr",
          "text": [
            "[*********************100%***********************]  1 of 1 completed\n",
            "[*********************100%***********************]  1 of 1 completed\n"
          ]
        },
        {
          "output_type": "stream",
          "name": "stdout",
          "text": [
            "start\n",
            "Fetching data for SYY...\n",
            "start\n",
            "Fetching data for TMUS...\n"
          ]
        },
        {
          "output_type": "stream",
          "name": "stderr",
          "text": [
            "[*********************100%***********************]  1 of 1 completed\n",
            "[*********************100%***********************]  1 of 1 completed\n"
          ]
        },
        {
          "output_type": "stream",
          "name": "stdout",
          "text": [
            "start\n",
            "Fetching data for TROW...\n",
            "start\n",
            "Fetching data for TTWO...\n"
          ]
        },
        {
          "output_type": "stream",
          "name": "stderr",
          "text": [
            "[*********************100%***********************]  1 of 1 completed\n",
            "[*********************100%***********************]  1 of 1 completed\n"
          ]
        },
        {
          "output_type": "stream",
          "name": "stdout",
          "text": [
            "start\n",
            "Fetching data for TPR...\n",
            "start\n",
            "Fetching data for TRGP...\n"
          ]
        },
        {
          "output_type": "stream",
          "name": "stderr",
          "text": [
            "[*********************100%***********************]  1 of 1 completed\n",
            "[*********************100%***********************]  1 of 1 completed\n"
          ]
        },
        {
          "output_type": "stream",
          "name": "stdout",
          "text": [
            "start\n",
            "Fetching data for TGT...\n",
            "start\n",
            "Fetching data for TEL...\n"
          ]
        },
        {
          "output_type": "stream",
          "name": "stderr",
          "text": [
            "[*********************100%***********************]  1 of 1 completed\n",
            "[*********************100%***********************]  1 of 1 completed\n"
          ]
        },
        {
          "output_type": "stream",
          "name": "stdout",
          "text": [
            "start\n",
            "Fetching data for TDY...\n",
            "start\n",
            "Fetching data for TFX...\n"
          ]
        },
        {
          "output_type": "stream",
          "name": "stderr",
          "text": [
            "[*********************100%***********************]  1 of 1 completed\n",
            "[*********************100%***********************]  1 of 1 completed\n",
            "[*********************100%***********************]  1 of 1 completed\n"
          ]
        },
        {
          "output_type": "stream",
          "name": "stdout",
          "text": [
            "start\n",
            "Fetching data for TER...\n",
            "start\n",
            "Fetching data for TSLA...\n",
            "start\n",
            "Fetching data for TXN...\n"
          ]
        },
        {
          "output_type": "stream",
          "name": "stderr",
          "text": [
            "[*********************100%***********************]  1 of 1 completed\n",
            "[*********************100%***********************]  1 of 1 completed\n"
          ]
        },
        {
          "output_type": "stream",
          "name": "stdout",
          "text": [
            "start\n",
            "Fetching data for TPL...\n",
            "start\n",
            "Fetching data for TXT...\n"
          ]
        },
        {
          "output_type": "stream",
          "name": "stderr",
          "text": [
            "[*********************100%***********************]  1 of 1 completed\n",
            "[*********************100%***********************]  1 of 1 completed\n"
          ]
        },
        {
          "output_type": "stream",
          "name": "stdout",
          "text": [
            "start\n",
            "Fetching data for TMO...\n",
            "start\n",
            "Fetching data for TJX...\n"
          ]
        },
        {
          "output_type": "stream",
          "name": "stderr",
          "text": [
            "[*********************100%***********************]  1 of 1 completed\n",
            "[*********************100%***********************]  1 of 1 completed\n"
          ]
        },
        {
          "output_type": "stream",
          "name": "stdout",
          "text": [
            "start\n",
            "Fetching data for TSCO...\n",
            "start\n",
            "Fetching data for TT...\n"
          ]
        },
        {
          "output_type": "stream",
          "name": "stderr",
          "text": [
            "[*********************100%***********************]  1 of 1 completed\n",
            "[*********************100%***********************]  1 of 1 completed\n"
          ]
        },
        {
          "output_type": "stream",
          "name": "stdout",
          "text": [
            "start\n",
            "Fetching data for TDG...\n",
            "start\n",
            "Fetching data for TRV...\n"
          ]
        },
        {
          "output_type": "stream",
          "name": "stderr",
          "text": [
            "[*********************100%***********************]  1 of 1 completed\n",
            "[*********************100%***********************]  1 of 1 completed\n",
            "[*********************100%***********************]  1 of 1 completed\n"
          ]
        },
        {
          "output_type": "stream",
          "name": "stdout",
          "text": [
            "start\n",
            "Fetching data for TRMB...\n",
            "start\n",
            "Fetching data for TFC...\n",
            "start\n",
            "Fetching data for TYL...\n"
          ]
        },
        {
          "output_type": "stream",
          "name": "stderr",
          "text": [
            "[*********************100%***********************]  1 of 1 completed\n",
            "[*********************100%***********************]  1 of 1 completed\n"
          ]
        },
        {
          "output_type": "stream",
          "name": "stdout",
          "text": [
            "start\n",
            "Fetching data for TSN...\n",
            "start\n",
            "Fetching data for USB...\n"
          ]
        },
        {
          "output_type": "stream",
          "name": "stderr",
          "text": [
            "[*********************100%***********************]  1 of 1 completed\n",
            "[*********************100%***********************]  1 of 1 completed\n",
            "[*********************100%***********************]  1 of 1 completed"
          ]
        },
        {
          "output_type": "stream",
          "name": "stdout",
          "text": [
            "start\n",
            "Fetching data for UBER...\n",
            "start\n",
            "Fetching data for UDR...\n"
          ]
        },
        {
          "output_type": "stream",
          "name": "stderr",
          "text": [
            "\n",
            "[*********************100%***********************]  1 of 1 completed\n",
            "[*********************100%***********************]  1 of 1 completed"
          ]
        },
        {
          "output_type": "stream",
          "name": "stdout",
          "text": [
            "start\n",
            "Fetching data for ULTA...\n",
            "start\n",
            "Fetching data for UNP...\n",
            "start\n",
            "Fetching data for UAL...\n"
          ]
        },
        {
          "output_type": "stream",
          "name": "stderr",
          "text": [
            "\n",
            "[*********************100%***********************]  1 of 1 completed\n",
            "[*********************100%***********************]  1 of 1 completed\n",
            "[*********************100%***********************]  1 of 1 completed\n"
          ]
        },
        {
          "output_type": "stream",
          "name": "stdout",
          "text": [
            "start\n",
            "Fetching data for UPS...\n",
            "start\n",
            "Fetching data for URI...\n",
            "start\n",
            "Fetching data for UNH...\n"
          ]
        },
        {
          "output_type": "stream",
          "name": "stderr",
          "text": [
            "[*********************100%***********************]  1 of 1 completed\n",
            "[*********************100%***********************]  1 of 1 completed\n"
          ]
        },
        {
          "output_type": "stream",
          "name": "stdout",
          "text": [
            "start\n",
            "Fetching data for UHS...\n",
            "start\n",
            "Fetching data for VLO...\n"
          ]
        },
        {
          "output_type": "stream",
          "name": "stderr",
          "text": [
            "[*********************100%***********************]  1 of 1 completed\n",
            "[*********************100%***********************]  1 of 1 completed\n",
            "[*********************100%***********************]  1 of 1 completed\n"
          ]
        },
        {
          "output_type": "stream",
          "name": "stdout",
          "text": [
            "start\n",
            "Fetching data for VTR...\n",
            "start\n",
            "Fetching data for VLTO...\n",
            "start\n",
            "Fetching data for VRSN...\n"
          ]
        },
        {
          "output_type": "stream",
          "name": "stderr",
          "text": [
            "[*********************100%***********************]  1 of 1 completed\n",
            "[*********************100%***********************]  1 of 1 completed\n"
          ]
        },
        {
          "output_type": "stream",
          "name": "stdout",
          "text": [
            "start\n",
            "Fetching data for VRSK...\n",
            "start\n",
            "Fetching data for VZ...\n"
          ]
        },
        {
          "output_type": "stream",
          "name": "stderr",
          "text": [
            "[*********************100%***********************]  1 of 1 completed\n",
            "[*********************100%***********************]  1 of 1 completed\n"
          ]
        },
        {
          "output_type": "stream",
          "name": "stdout",
          "text": [
            "start\n",
            "Fetching data for VRTX...\n",
            "start\n",
            "Fetching data for VTRS...\n"
          ]
        },
        {
          "output_type": "stream",
          "name": "stderr",
          "text": [
            "[*********************100%***********************]  1 of 1 completed\n",
            "[*********************100%***********************]  1 of 1 completed\n",
            "[*********************100%***********************]  1 of 1 completed\n"
          ]
        },
        {
          "output_type": "stream",
          "name": "stdout",
          "text": [
            "start\n",
            "Fetching data for VICI...\n",
            "start\n",
            "Fetching data for V...\n"
          ]
        },
        {
          "output_type": "stream",
          "name": "stderr",
          "text": [
            "\r[*********************100%***********************]  1 of 1 completed\n"
          ]
        },
        {
          "output_type": "stream",
          "name": "stdout",
          "text": [
            "start\n",
            "Fetching data for VST...\n",
            "start\n",
            "Fetching data for VMC...\n"
          ]
        },
        {
          "output_type": "stream",
          "name": "stderr",
          "text": [
            "[*********************100%***********************]  1 of 1 completed\n",
            "[*********************100%***********************]  1 of 1 completed\n"
          ]
        },
        {
          "output_type": "stream",
          "name": "stdout",
          "text": [
            "start\n",
            "Fetching data for WRB...\n",
            "start\n",
            "Fetching data for GWW...\n"
          ]
        },
        {
          "output_type": "stream",
          "name": "stderr",
          "text": [
            "[*********************100%***********************]  1 of 1 completed\n",
            "[*********************100%***********************]  1 of 1 completed\n"
          ]
        },
        {
          "output_type": "stream",
          "name": "stdout",
          "text": [
            "start\n",
            "Fetching data for WAB...\n",
            "start\n",
            "Fetching data for WBA...\n"
          ]
        },
        {
          "output_type": "stream",
          "name": "stderr",
          "text": [
            "[*********************100%***********************]  1 of 1 completed\n",
            "[*********************100%***********************]  1 of 1 completed\n"
          ]
        },
        {
          "output_type": "stream",
          "name": "stdout",
          "text": [
            "start\n",
            "Fetching data for WMT...\n",
            "start\n",
            "Fetching data for DIS...\n"
          ]
        },
        {
          "output_type": "stream",
          "name": "stderr",
          "text": [
            "[*********************100%***********************]  1 of 1 completed\n",
            "[*********************100%***********************]  1 of 1 completed\n",
            "[*********************100%***********************]  1 of 1 completed\n"
          ]
        },
        {
          "output_type": "stream",
          "name": "stdout",
          "text": [
            "start\n",
            "Fetching data for WBD...\n",
            "start\n",
            "Fetching data for WM...\n",
            "start\n",
            "Fetching data for WAT...\n"
          ]
        },
        {
          "output_type": "stream",
          "name": "stderr",
          "text": [
            "[*********************100%***********************]  1 of 1 completed\n",
            "[*********************100%***********************]  1 of 1 completed\n"
          ]
        },
        {
          "output_type": "stream",
          "name": "stdout",
          "text": [
            "start\n",
            "Fetching data for WEC...\n",
            "start\n",
            "Fetching data for WFC...\n"
          ]
        },
        {
          "output_type": "stream",
          "name": "stderr",
          "text": [
            "[*********************100%***********************]  1 of 1 completed\n",
            "[*********************100%***********************]  1 of 1 completed\n"
          ]
        },
        {
          "output_type": "stream",
          "name": "stdout",
          "text": [
            "start\n",
            "Fetching data for WELL...\n",
            "start\n",
            "Fetching data for WST...\n"
          ]
        },
        {
          "output_type": "stream",
          "name": "stderr",
          "text": [
            "[*********************100%***********************]  1 of 1 completed\n",
            "[*********************100%***********************]  1 of 1 completed\n"
          ]
        },
        {
          "output_type": "stream",
          "name": "stdout",
          "text": [
            "start\n",
            "Fetching data for WDC...\n",
            "start\n",
            "Fetching data for WY...\n"
          ]
        },
        {
          "output_type": "stream",
          "name": "stderr",
          "text": [
            "[*********************100%***********************]  1 of 1 completed\n",
            "[*********************100%***********************]  1 of 1 completed\n"
          ]
        },
        {
          "output_type": "stream",
          "name": "stdout",
          "text": [
            "start\n",
            "Fetching data for WMB...\n",
            "start\n",
            "Fetching data for WTW...\n"
          ]
        },
        {
          "output_type": "stream",
          "name": "stderr",
          "text": [
            "[*********************100%***********************]  1 of 1 completed\n",
            "[*********************100%***********************]  1 of 1 completed\n",
            "[*********************100%***********************]  1 of 1 completed\n"
          ]
        },
        {
          "output_type": "stream",
          "name": "stdout",
          "text": [
            "start\n",
            "Fetching data for WDAY...\n",
            "start\n",
            "Fetching data for WYNN...\n",
            "start\n",
            "Fetching data for XEL...\n"
          ]
        },
        {
          "output_type": "stream",
          "name": "stderr",
          "text": [
            "[*********************100%***********************]  1 of 1 completed\n",
            "[*********************100%***********************]  1 of 1 completed\n",
            "[*********************100%***********************]  1 of 1 completed"
          ]
        },
        {
          "output_type": "stream",
          "name": "stdout",
          "text": [
            "start\n",
            "Fetching data for XYL...\n",
            "start\n",
            "Fetching data for YUM...\n"
          ]
        },
        {
          "output_type": "stream",
          "name": "stderr",
          "text": [
            "\n",
            "[*********************100%***********************]  1 of 1 completed\n",
            "[*********************100%***********************]  1 of 1 completed\n"
          ]
        },
        {
          "output_type": "stream",
          "name": "stdout",
          "text": [
            "start\n",
            "Fetching data for ZBRA...\n",
            "start\n",
            "Fetching data for ZBH...\n",
            "start\n",
            "Fetching data for ZTS...\n"
          ]
        },
        {
          "output_type": "stream",
          "name": "stderr",
          "text": [
            "\r[*********************100%***********************]  1 of 1 completed\n"
          ]
        }
      ]
    },
    {
      "cell_type": "code",
      "source": [
        "# DataFrame Structure\n",
        "dfdata.info()"
      ],
      "metadata": {
        "colab": {
          "base_uri": "https://localhost:8080/"
        },
        "id": "gHws_M5goEEW",
        "outputId": "5885a807-3ee1-412c-91b2-4f397ab79dae"
      },
      "execution_count": 131,
      "outputs": [
        {
          "output_type": "stream",
          "name": "stdout",
          "text": [
            "<class 'pandas.core.frame.DataFrame'>\n",
            "RangeIndex: 503 entries, 0 to 502\n",
            "Data columns (total 17 columns):\n",
            " #   Column                 Non-Null Count  Dtype         \n",
            "---  ------                 --------------  -----         \n",
            " 0   Symbol                 503 non-null    object        \n",
            " 1   Security               503 non-null    string        \n",
            " 2   GICS Sector            503 non-null    string        \n",
            " 3   GICS Sub-Industry      503 non-null    string        \n",
            " 4   Headquarters Location  503 non-null    string        \n",
            " 5   Date added             503 non-null    datetime64[ns]\n",
            " 6   CIK                    503 non-null    int64         \n",
            " 7   Founded                461 non-null    float64       \n",
            " 8   MA_60                  501 non-null    float64       \n",
            " 9   BB_High                501 non-null    float64       \n",
            " 10  BB_Mid                 501 non-null    float64       \n",
            " 11  BB_Low                 501 non-null    float64       \n",
            " 12  RSI_14                 501 non-null    float64       \n",
            " 13  MACD_Line              501 non-null    float64       \n",
            " 14  MACD_Signal            501 non-null    float64       \n",
            " 15  MACD_Hist              501 non-null    float64       \n",
            " 16  Price                  503 non-null    float64       \n",
            "dtypes: datetime64[ns](1), float64(10), int64(1), object(1), string(4)\n",
            "memory usage: 66.9+ KB\n"
          ]
        }
      ]
    },
    {
      "cell_type": "markdown",
      "source": [
        "## Creating Technical Thresholds based on industry And cleaning the main DataFrame"
      ],
      "metadata": {
        "id": "Yy61NnymP4ca"
      }
    },
    {
      "cell_type": "code",
      "source": [
        "# Helper function for assigning Trend Values based on Sub Sector-Thresholds\n",
        "def threshold_model(row, threshold_df):\n",
        "\n",
        "    sector = row['GICS Sector']\n",
        "    sub_industry = row['GICS Sub-Industry']\n",
        "    if (sector, sub_industry) in threshold_df.index:\n",
        "        sector_sub_industry_thresholds = threshold_df.loc[(sector, sub_industry)]\n",
        "        if row['Normalized_Diff'] > sector_sub_industry_thresholds['Upper Threshold']:\n",
        "            return 'Upward Trend'\n",
        "        elif row['Normalized_Diff'] < sector_sub_industry_thresholds['Lower Threshold']:\n",
        "            return 'Downward Trend'\n",
        "        else:\n",
        "            return 'Sideways Movement'\n",
        "    else:\n",
        "        return 'No Data for This Sector/Sub-Industry'"
      ],
      "metadata": {
        "id": "sllF__4WPNus"
      },
      "execution_count": 132,
      "outputs": []
    },
    {
      "cell_type": "code",
      "source": [
        "# Helper function for assigning Trend Values based on Sector-Thresholds\n",
        "def sector_model(row, sector_threshold_df):\n",
        "    sector = row['GICS Sector']\n",
        "    if sector in sector_threshold_df.index:\n",
        "        sector_thresholds = sector_threshold_df.loc[sector]\n",
        "        if row['Normalized_Diff'] > sector_thresholds['Upper Threshold']:\n",
        "            return 'Upward Trend'\n",
        "        elif row['Normalized_Diff'] < sector_thresholds['Lower Threshold']:\n",
        "            return 'Downward Trend'\n",
        "        else:\n",
        "            return 'Sideways Movement'\n",
        "    else:\n",
        "        return 'No Data for This Sector'"
      ],
      "metadata": {
        "id": "U8MdyZZGPPFa"
      },
      "execution_count": 133,
      "outputs": []
    },
    {
      "cell_type": "code",
      "source": [
        "# Wrangling dfdata and creating thresholds by Sub-Industry norms\n",
        "dfdata['Price'] = pd.to_numeric(dfdata['Price'], errors='coerce')\n",
        "dfdata_cleaned = dfdata.dropna(subset=['MA_60', 'MACD_Signal', 'Price']).copy()  # Use .copy() to avoid SettingWithCopyWarning\n",
        "dfdata_cleaned['Price'] = dfdata_cleaned['Price'].replace(0, 1)  # Avoid division by zero\n",
        "dfdata_cleaned.loc[:, 'Normalized_Diff'] = (dfdata_cleaned['MA_60'] - dfdata_cleaned['MACD_Signal']) / dfdata_cleaned['Price']\n",
        "\n",
        "# Group by GICS Sector and Sub-Industry, calculate thresholds\n",
        "threshold_df = dfdata_cleaned.groupby(['GICS Sector', 'GICS Sub-Industry'])['Normalized_Diff'].agg(['mean', 'std'])\n",
        "threshold_df['Upper Threshold'] = threshold_df['mean'] + threshold_df['std']\n",
        "threshold_df['Lower Threshold'] = threshold_df['mean'] - threshold_df['std']"
      ],
      "metadata": {
        "collapsed": true,
        "id": "SpgCykKyqhr7"
      },
      "execution_count": 134,
      "outputs": []
    },
    {
      "cell_type": "code",
      "source": [
        "# Group by GICS Sector only, calculating mean, std, and other statistics for Normalized_Diff\n",
        "sector_threshold_df = dfdata_cleaned.groupby('GICS Sector')['Normalized_Diff'].agg(['mean', 'std'])\n",
        "sector_threshold_df['Upper Threshold'] = sector_threshold_df['mean'] + sector_threshold_df['std']\n",
        "sector_threshold_df['Lower Threshold'] = sector_threshold_df['mean'] - sector_threshold_df['std']"
      ],
      "metadata": {
        "id": "iXVJGJvONOYz"
      },
      "execution_count": 135,
      "outputs": []
    },
    {
      "cell_type": "code",
      "source": [
        "#Applying Required Threshold Values\n",
        "dfdata_cleaned['Trend Prediction'] = dfdata_cleaned.apply(threshold_model, threshold_df=threshold_df, axis=1)\n",
        "dfdata_cleaned['Sector Trend Prediction'] = dfdata_cleaned.apply(sector_model, sector_threshold_df=sector_threshold_df, axis=1)"
      ],
      "metadata": {
        "id": "89uUrj6uRC5c"
      },
      "execution_count": 136,
      "outputs": []
    },
    {
      "cell_type": "markdown",
      "source": [
        "### Adding Earnings Date to Avoid Volitality"
      ],
      "metadata": {
        "id": "RQS4LLvLRW1L"
      }
    },
    {
      "cell_type": "code",
      "source": [
        "# Helper Function to find the Earnings Date\n",
        "def get_earnings_date(symbol):\n",
        "    try:\n",
        "        stock = yf.Ticker(symbol)\n",
        "        calendar = stock.calendar  # Fetch earnings calendar\n",
        "\n",
        "        if 'Earnings Date' in calendar:\n",
        "            earnings_dates = calendar['Earnings Date']\n",
        "\n",
        "            if isinstance(earnings_dates, list) and len(earnings_dates) > 0:\n",
        "                return earnings_dates[0]  # Get the next earnings date\n",
        "            else:\n",
        "                return None\n",
        "        else:\n",
        "            return None\n",
        "    except Exception as e:\n",
        "        print(f\"Error fetching earnings date for {symbol}: {e}\")\n",
        "        return None\n"
      ],
      "metadata": {
        "id": "StNWNqDiSb3I",
        "collapsed": true
      },
      "execution_count": 137,
      "outputs": []
    },
    {
      "cell_type": "code",
      "source": [
        "# Manipulating Data to add Data to the Dataframe\n",
        "dfdata_cleaned['Date'] = pd.to_datetime('today').normalize()\n",
        "dfdata_cleaned['Earnings Date'] = dfdata_cleaned['Symbol'].apply(get_earnings_date)\n",
        "dfdata_cleaned['Earnings Date'] = pd.to_datetime(dfdata_cleaned['Earnings Date'], errors='coerce')\n",
        "dfdata_cleaned['Time to Next Earnings'] = (dfdata_cleaned['Earnings Date'] - dfdata_cleaned['Date']).dt.days"
      ],
      "metadata": {
        "id": "JgtvKWCURhR6"
      },
      "execution_count": 138,
      "outputs": []
    },
    {
      "cell_type": "code",
      "source": [
        "#DataFrame Structure\n",
        "dfdata_cleaned.info()"
      ],
      "metadata": {
        "colab": {
          "base_uri": "https://localhost:8080/"
        },
        "id": "64jhsgjXUw7x",
        "outputId": "b805466a-4d9b-46ea-f22a-1ea188329438"
      },
      "execution_count": 139,
      "outputs": [
        {
          "output_type": "stream",
          "name": "stdout",
          "text": [
            "<class 'pandas.core.frame.DataFrame'>\n",
            "Index: 501 entries, 0 to 502\n",
            "Data columns (total 23 columns):\n",
            " #   Column                   Non-Null Count  Dtype         \n",
            "---  ------                   --------------  -----         \n",
            " 0   Symbol                   501 non-null    object        \n",
            " 1   Security                 501 non-null    string        \n",
            " 2   GICS Sector              501 non-null    string        \n",
            " 3   GICS Sub-Industry        501 non-null    string        \n",
            " 4   Headquarters Location    501 non-null    string        \n",
            " 5   Date added               501 non-null    datetime64[ns]\n",
            " 6   CIK                      501 non-null    int64         \n",
            " 7   Founded                  459 non-null    float64       \n",
            " 8   MA_60                    501 non-null    float64       \n",
            " 9   BB_High                  501 non-null    float64       \n",
            " 10  BB_Mid                   501 non-null    float64       \n",
            " 11  BB_Low                   501 non-null    float64       \n",
            " 12  RSI_14                   501 non-null    float64       \n",
            " 13  MACD_Line                501 non-null    float64       \n",
            " 14  MACD_Signal              501 non-null    float64       \n",
            " 15  MACD_Hist                501 non-null    float64       \n",
            " 16  Price                    501 non-null    float64       \n",
            " 17  Normalized_Diff          501 non-null    float64       \n",
            " 18  Trend Prediction         501 non-null    object        \n",
            " 19  Sector Trend Prediction  501 non-null    object        \n",
            " 20  Date                     501 non-null    datetime64[ns]\n",
            " 21  Earnings Date            501 non-null    datetime64[ns]\n",
            " 22  Time to Next Earnings    501 non-null    int64         \n",
            "dtypes: datetime64[ns](3), float64(11), int64(2), object(3), string(4)\n",
            "memory usage: 93.9+ KB\n"
          ]
        }
      ]
    },
    {
      "cell_type": "markdown",
      "source": [
        "## Classification - Logistic Regression, SVM , Random Forest"
      ],
      "metadata": {
        "id": "E7UkPfmrPQp0"
      }
    },
    {
      "cell_type": "markdown",
      "source": [
        "### Setting up Different Models"
      ],
      "metadata": {
        "id": "U6GcLkM5Suyf"
      }
    },
    {
      "cell_type": "code",
      "source": [
        "# Adding a new DF and setting X and Y Values for Train and Test\n",
        "df = dfdata_cleaned.copy()\n",
        "df[\"Sideways\"] = df[\"Trend Prediction\"].map({\"Sideways Movement\": 1, \"Upward Trend\": 0, \"Downward Trend\": 0})\n",
        "df[\"Sideways\"] = df[\"Trend Prediction\"].apply(lambda x: 1 if x == \"Sideways Movement\" else 0)\n",
        "features = [\"MA_60\", \"BB_High\", \"BB_Mid\", \"BB_Low\", \"RSI_14\", \"MACD_Line\", \"MACD_Signal\", \"MACD_Hist\", \"Price\", \"Normalized_Diff\"]\n",
        "X = df[features]\n",
        "y = df[\"Sideways\"]"
      ],
      "metadata": {
        "id": "z5SmrAmSPom-"
      },
      "execution_count": 140,
      "outputs": []
    },
    {
      "cell_type": "code",
      "source": [
        "df.columns"
      ],
      "metadata": {
        "colab": {
          "base_uri": "https://localhost:8080/"
        },
        "id": "4vo1u6_Kd3w4",
        "outputId": "b4f65e03-a0dd-4824-bba5-e2a8dddd93bd"
      },
      "execution_count": 141,
      "outputs": [
        {
          "output_type": "execute_result",
          "data": {
            "text/plain": [
              "Index(['Symbol', 'Security', 'GICS Sector', 'GICS Sub-Industry',\n",
              "       'Headquarters Location', 'Date added', 'CIK', 'Founded', 'MA_60',\n",
              "       'BB_High', 'BB_Mid', 'BB_Low', 'RSI_14', 'MACD_Line', 'MACD_Signal',\n",
              "       'MACD_Hist', 'Price', 'Normalized_Diff', 'Trend Prediction',\n",
              "       'Sector Trend Prediction', 'Date', 'Earnings Date',\n",
              "       'Time to Next Earnings', 'Sideways'],\n",
              "      dtype='object')"
            ]
          },
          "metadata": {},
          "execution_count": 141
        }
      ]
    },
    {
      "cell_type": "code",
      "source": [
        "# Training and Testing data with 80-20 split and ccreating a Dictionary to store models\n",
        "X_train, X_test, y_train, y_test = train_test_split(\n",
        "    X, y, test_size=0.2, random_state=42, stratify=y)\n",
        "\n",
        "scaler = StandardScaler()\n",
        "X_train_scaled = scaler.fit_transform(X_train)\n",
        "X_test_scaled = scaler.transform(X_test)\n",
        "\n",
        "models = {\n",
        "    \"Logistic Regression\": LogisticRegression(),\n",
        "\n",
        "    \"SVM\": SVC(kernel=\"rbf\", probability = True),\n",
        "    \"Random Forest\": RandomForestClassifier(n_estimators=100)\n",
        "}"
      ],
      "metadata": {
        "id": "aj5zyJAnS96Z"
      },
      "execution_count": 142,
      "outputs": []
    },
    {
      "cell_type": "code",
      "source": [
        "# Evaluating each model\n",
        "for name, model in models.items():\n",
        "    model.fit(X_train_scaled, y_train)\n",
        "    y_pred = model.predict(X_test_scaled)\n",
        "    acc = accuracy_score(y_test, y_pred)\n",
        "    print(f\"\\n{name} Accuracy: {acc:.4f}\")\n",
        "    print(classification_report(y_test, y_pred))\n"
      ],
      "metadata": {
        "colab": {
          "base_uri": "https://localhost:8080/"
        },
        "id": "wZkh85EKKIHx",
        "outputId": "5f0bb081-8105-48b1-8a01-621021c9cdf7"
      },
      "execution_count": 143,
      "outputs": [
        {
          "output_type": "stream",
          "name": "stdout",
          "text": [
            "\n",
            "Logistic Regression Accuracy: 0.7921\n",
            "              precision    recall  f1-score   support\n",
            "\n",
            "           0       0.75      0.13      0.22        23\n",
            "           1       0.79      0.99      0.88        78\n",
            "\n",
            "    accuracy                           0.79       101\n",
            "   macro avg       0.77      0.56      0.55       101\n",
            "weighted avg       0.78      0.79      0.73       101\n",
            "\n",
            "\n",
            "SVM Accuracy: 0.8218\n",
            "              precision    recall  f1-score   support\n",
            "\n",
            "           0       0.86      0.26      0.40        23\n",
            "           1       0.82      0.99      0.90        78\n",
            "\n",
            "    accuracy                           0.82       101\n",
            "   macro avg       0.84      0.62      0.65       101\n",
            "weighted avg       0.83      0.82      0.78       101\n",
            "\n",
            "\n",
            "Random Forest Accuracy: 0.7921\n",
            "              precision    recall  f1-score   support\n",
            "\n",
            "           0       0.57      0.35      0.43        23\n",
            "           1       0.83      0.92      0.87        78\n",
            "\n",
            "    accuracy                           0.79       101\n",
            "   macro avg       0.70      0.64      0.65       101\n",
            "weighted avg       0.77      0.79      0.77       101\n",
            "\n"
          ]
        }
      ]
    },
    {
      "cell_type": "markdown",
      "source": [
        "### Model Performance Visualisation"
      ],
      "metadata": {
        "id": "j0nXIlGLTiDL"
      }
    },
    {
      "cell_type": "code",
      "source": [
        "# Visulizing Key Statistics such as Precision, F-1 Score, Acccuracy and Recall\n",
        "modelsN = [\"Logistic Regression\", \"SVM\", \"Random Forest\"]\n",
        "\n",
        "# These are the precision, recall, f1-score, and accuracy for each model.\n",
        "# These values are based on the output of classification_report and accuracy_score.\n",
        "precision_scores = [0.79, 0.82, 0.84]\n",
        "recall_scores = [0.99, 0.99, 0.92]\n",
        "f1_scores = [0.88, 0.90, 0.88]\n",
        "accuracy_scores = [0.79, 0.82, 0.80]\n",
        "\n",
        "# Creating the viz\n",
        "x = np.arange(len(modelsN))\n",
        "width = 0.2\n",
        "fig, ax = plt.subplots(figsize=(10, 6))\n",
        "\n",
        "bars_precision = ax.bar(x - width, precision_scores, width, label='Precision')\n",
        "bars_recall = ax.bar(x, recall_scores, width, label='Recall')\n",
        "bars_f1 = ax.bar(x + width, f1_scores, width, label='F1 Score')\n",
        "bars_accuracy = ax.bar(x + 2*width, accuracy_scores, width, label='Accuracy')\n",
        "ax.set_xlabel('Models')\n",
        "ax.set_ylabel('Scores')\n",
        "ax.set_title('Comparison of Key Metrics for Different Models')\n",
        "ax.set_xticks(x)\n",
        "ax.set_xticklabels(modelsN)\n",
        "ax.legend()\n",
        "\n",
        "plt.show()\n"
      ],
      "metadata": {
        "colab": {
          "base_uri": "https://localhost:8080/",
          "height": 0
        },
        "id": "lNLePNsFH9Na",
        "outputId": "757de92c-b6b4-4324-f959-9e9c2af2d25e"
      },
      "execution_count": 144,
      "outputs": [
        {
          "output_type": "display_data",
          "data": {
            "text/plain": [
              "<Figure size 1000x600 with 1 Axes>"
            ],
            "image/png": "[encoded data removed]"
          },
          "metadata": {}
        }
      ]
    },
    {
      "cell_type": "code",
      "source": [
        "#Plotting the ROC for Each Model\n",
        "plt.figure(figsize=(8, 6))\n",
        "\n",
        "y_prob_logreg = models[\"Logistic Regression\"].predict_proba(X_test_scaled)[:, 1]\n",
        "fpr_logreg, tpr_logreg, thresholds_logreg = roc_curve(y_test, y_prob_logreg)\n",
        "roc_auc_logreg = auc(fpr_logreg, tpr_logreg)\n",
        "plt.plot(fpr_logreg, tpr_logreg, color='blue', lw=2, label=f'Logistic Regression (AUC = {roc_auc_logreg:.2f})')\n",
        "\n",
        "# SVM ROC Curve\n",
        "y_prob_svm = models[\"SVM\"].predict_proba(X_test_scaled)[:, 1]\n",
        "fpr_svm, tpr_svm, thresholds_svm = roc_curve(y_test, y_prob_svm)\n",
        "roc_auc_svm = auc(fpr_svm, tpr_svm)\n",
        "plt.plot(fpr_svm, tpr_svm, color='green', lw=2, label=f'SVM (AUC = {roc_auc_svm:.2f})')\n",
        "\n",
        "# Random Forest ROC Curve\n",
        "y_prob_rf = models[\"Random Forest\"].predict_proba(X_test_scaled)[:, 1]\n",
        "fpr_rf, tpr_rf, thresholds_rf = roc_curve(y_test, y_prob_rf)\n",
        "roc_auc_rf = auc(fpr_rf, tpr_rf)\n",
        "plt.plot(fpr_rf, tpr_rf, color='red', lw=2, label=f'Random Forest (AUC = {roc_auc_rf:.2f})')\n",
        "\n",
        "# Diagonal line for random guessing at AUC value of 0.5\n",
        "plt.plot([0, 1], [0, 1], color='gray', linestyle='--')\n",
        "\n",
        "plt.xlim([0.0, 1.0])\n",
        "plt.ylim([0.0, 1.05])\n",
        "plt.xlabel('False Positive Rate')\n",
        "plt.ylabel('True Positive Rate')\n",
        "plt.title('ROC Curves for Logistic Regression, SVM, and Random Forest')\n",
        "plt.legend(loc='lower right')\n",
        "plt.show()\n"
      ],
      "metadata": {
        "colab": {
          "base_uri": "https://localhost:8080/",
          "height": 0
        },
        "id": "ohmJEsVfLdGJ",
        "outputId": "89338fea-3f48-465a-eae6-d84b96b9ae9f"
      },
      "execution_count": 145,
      "outputs": [
        {
          "output_type": "display_data",
          "data": {
            "text/plain": [
              "<Figure size 800x600 with 1 Axes>"
            ],
            "image/png": "[encoded data removed]"
          },
          "metadata": {}
        }
      ]
    },
    {
      "cell_type": "markdown",
      "source": [],
      "metadata": {
        "id": "DYD0fh_TXjkM"
      }
    },
    {
      "cell_type": "markdown",
      "source": [
        "## Model Deployment"
      ],
      "metadata": {
        "id": "asF1cr2oXmPb"
      }
    },
    {
      "cell_type": "code",
      "source": [
        "# Adding New Data to be Implemeted in Future Scenarios\n",
        "\n",
        "#new_data = new_data_df[features]\n",
        "#new_data_scaled = scaler.transform(new_data)\n",
        "#new_predictions = models[\"SVM\"].predict(new_data_scaled)\n",
        "#new_data[\"Prediction\"] = new_predictions\n",
        "\n",
        "#Ignore"
      ],
      "metadata": {
        "id": "u8aNkOnkaayQ"
      },
      "execution_count": 146,
      "outputs": []
    },
    {
      "cell_type": "code",
      "source": [
        "# Saving the model\n",
        "joblib.dump(models[\"SVM\"], \"svm_model.pkl\")\n",
        "joblib.dump(scaler, \"scaler.pkl\")"
      ],
      "metadata": {
        "colab": {
          "base_uri": "https://localhost:8080/"
        },
        "id": "h5kJ2zqqZZdE",
        "outputId": "ca9007f9-fb35-4cf9-abb4-b65144df59a6"
      },
      "execution_count": 147,
      "outputs": [
        {
          "output_type": "execute_result",
          "data": {
            "text/plain": [
              "['scaler.pkl']"
            ]
          },
          "metadata": {},
          "execution_count": 147
        }
      ]
    },
    {
      "cell_type": "code",
      "source": [
        "#Prediction with New Data\n",
        "\n",
        "#new_data_scaled = scaler.transform(new_data)\n",
        "#new_predictions = svm_model.predict(new_data_scaled)"
      ],
      "metadata": {
        "id": "Rkob-OLua86v"
      },
      "execution_count": 148,
      "outputs": []
    }
  ]
}